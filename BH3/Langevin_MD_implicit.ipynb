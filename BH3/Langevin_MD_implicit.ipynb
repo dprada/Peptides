{
 "cells": [
  {
   "cell_type": "code",
   "execution_count": 1,
   "metadata": {},
   "outputs": [],
   "source": [
    "%load_ext autoreload\n",
    "%autoreload 2"
   ]
  },
  {
   "cell_type": "code",
   "execution_count": 2,
   "metadata": {},
   "outputs": [
    {
     "data": {
      "application/vnd.jupyter.widget-view+json": {
       "model_id": "510d0b8099294049b022c3e439846558",
       "version_major": 2,
       "version_minor": 0
      },
      "text/plain": []
     },
     "metadata": {},
     "output_type": "display_data"
    }
   ],
   "source": [
    "import molsysmt as msm\n",
    "import uibcdf_tools as uibcdf_tools\n",
    "import numpy as np\n",
    "from simtk import unit as unit\n",
    "import simtk.openmm as mm\n",
    "import simtk.openmm.app as app\n",
    "from mdtraj.reporters import HDF5Reporter\n",
    "from sys import stdout"
   ]
  },
  {
   "cell_type": "markdown",
   "metadata": {},
   "source": [
    "# Langevin dynamics with implicit solvent"
   ]
  },
  {
   "cell_type": "code",
   "execution_count": 3,
   "metadata": {},
   "outputs": [],
   "source": [
    "molecular_system = msm.convert('BH3.pdb', to_form='openmm.Modeller')"
   ]
  },
  {
   "cell_type": "code",
   "execution_count": 4,
   "metadata": {},
   "outputs": [],
   "source": [
    "forcefield = app.ForceField('amber99sb.xml', 'amber99_obc.xml')"
   ]
  },
  {
   "cell_type": "code",
   "execution_count": 5,
   "metadata": {},
   "outputs": [],
   "source": [
    "topology = molecular_system.topology\n",
    "positions = molecular_system.positions"
   ]
  },
  {
   "cell_type": "code",
   "execution_count": 6,
   "metadata": {},
   "outputs": [],
   "source": [
    "system = forcefield.createSystem(topology, implicitSolvent=app.OBC2,\n",
    "                                 soluteDielectric=1.0, solventDielectric=78.5)\n",
    "# Ver http://docs.openmm.org/7.1.0/userguide/application.html#amber-implicit-solvent\n",
    "# Puedo tambien poner implicitSolventKappa=1.0/nanometer"
   ]
  },
  {
   "cell_type": "code",
   "execution_count": 7,
   "metadata": {},
   "outputs": [],
   "source": [
    "temperature = 325*unit.kelvin\n",
    "integration_timestep = 2.0*unit.femtosecond\n",
    "damping = 1.0/unit.picosecond\n",
    "\n",
    "integrator = mm.LangevinIntegrator(temperature, damping, integration_timestep)"
   ]
  },
  {
   "cell_type": "code",
   "execution_count": 8,
   "metadata": {},
   "outputs": [],
   "source": [
    "platform = mm.Platform.getPlatformByName('CUDA')"
   ]
  },
  {
   "cell_type": "code",
   "execution_count": 9,
   "metadata": {},
   "outputs": [],
   "source": [
    "properties = {'CudaPrecision': 'mixed'}"
   ]
  },
  {
   "cell_type": "code",
   "execution_count": 10,
   "metadata": {},
   "outputs": [],
   "source": [
    "simulation = app.Simulation(topology, system, integrator, platform, properties)"
   ]
  },
  {
   "cell_type": "code",
   "execution_count": 11,
   "metadata": {},
   "outputs": [
    {
     "name": "stdout",
     "output_type": "stream",
     "text": [
      "7482.029606661797 kJ/mol\n",
      "-3603.6824523577893 kJ/mol\n"
     ]
    }
   ],
   "source": [
    "simulation.context.setPositions(positions)\n",
    "\n",
    "print(simulation.context.getState(getEnergy=True).getPotentialEnergy())\n",
    "simulation.minimizeEnergy()\n",
    "print(simulation.context.getState(getEnergy=True).getPotentialEnergy())"
   ]
  },
  {
   "cell_type": "code",
   "execution_count": 12,
   "metadata": {},
   "outputs": [],
   "source": [
    "simulation.context.setVelocitiesToTemperature(temperature)"
   ]
  },
  {
   "cell_type": "code",
   "execution_count": 13,
   "metadata": {},
   "outputs": [],
   "source": [
    "md_time = 10.0 * unit.nanoseconds\n",
    "saving_time_interval = 10.0 * unit.picoseconds\n",
    "log_time_interval = 0.2 * unit.nanoseconds\n",
    "\n",
    "md_steps = np.rint(md_time/integration_timestep).astype(int)\n",
    "saving_steps_interval = np.rint(saving_time_interval/integration_timestep).astype(int)\n",
    "log_steps_interval = np.rint(log_time_interval/integration_timestep).astype(int)"
   ]
  },
  {
   "cell_type": "code",
   "execution_count": 14,
   "metadata": {},
   "outputs": [],
   "source": [
    "reporter_log_stdout = app.StateDataReporter(stdout, log_steps_interval, step=True, time=True,\n",
    "                                            totalEnergy=True, temperature=True,\n",
    "                                            progress=True, remainingTime=True,\n",
    "                                            speed=True, totalSteps=md_steps, separator='\\t')\n",
    "\n",
    "\n",
    "reporter_logfile = app.StateDataReporter('traj.log', log_steps_interval, step=True, time=True,\n",
    "                                            potentialEnergy=True, kineticEnergy=True,\n",
    "                                            totalEnergy=True, temperature=True,\n",
    "                                            progress=True, remainingTime=True,\n",
    "                                            speed=True, totalSteps=md_steps, separator='\\t')\n",
    "\n",
    "reporter_h5file = HDF5Reporter('traj.h5', saving_steps_interval, coordinates=True, time=True,\n",
    "                               potentialEnergy=True, kineticEnergy=True, temperature=True)\n",
    "\n",
    "simulation.reporters.append(reporter_log_stdout)\n",
    "simulation.reporters.append(reporter_logfile)\n",
    "simulation.reporters.append(reporter_h5file)"
   ]
  },
  {
   "cell_type": "code",
   "execution_count": 15,
   "metadata": {},
   "outputs": [
    {
     "name": "stdout",
     "output_type": "stream",
     "text": [
      "#\"Progress (%)\"\t\"Step\"\t\"Time (ps)\"\t\"Total Energy (kJ/mole)\"\t\"Temperature (K)\"\t\"Speed (ns/day)\"\t\"Time Remaining\"\n",
      "2.0%\t100000\t200.00000000022686\t-920.837398393162\t328.7657925698578\t0\t--\n",
      "4.0%\t200000\t400.00000000118183\t-956.7589533639177\t330.9325818739608\t1.61e+03\t8:34\n",
      "6.0%\t300000\t599.9999999996356\t-1052.5232784055584\t322.07748622162006\t1.61e+03\t8:23\n",
      "8.0%\t400000\t799.9999999949063\t-1168.620558288614\t296.03706293092904\t1.61e+03\t8:14\n",
      "10.0%\t500000\t999.9999999901769\t-1120.9779447305384\t332.29361505453494\t1.61e+03\t8:03\n",
      "12.0%\t600000\t1199.9999999854476\t-1242.614510404725\t315.11330828622823\t1.61e+03\t7:52\n",
      "14.0%\t700000\t1399.9999999807183\t-1119.054638759907\t328.12751249015355\t1.61e+03\t7:41\n",
      "16.0%\t800000\t1599.9999999759889\t-1282.1802287940004\t294.4264196367732\t1.61e+03\t7:30\n",
      "18.0%\t900000\t1799.9999999712595\t-1245.8426558561341\t298.430162516121\t1.61e+03\t7:20\n",
      "20.0%\t1000000\t1999.9999999665301\t-1121.9950851377455\t344.9395834936983\t1.61e+03\t7:09\n",
      "22.0%\t1100000\t2199.9999999618008\t-1116.450888776495\t347.74772083496083\t1.61e+03\t6:59\n",
      "24.0%\t1200000\t2399.9999999570714\t-1179.1186553263065\t328.6447952409818\t1.61e+03\t6:48\n",
      "26.0%\t1300000\t2599.999999952342\t-1262.2258568208313\t301.9534648219313\t1.6e+03\t6:38\n",
      "28.0%\t1400000\t2799.9999999476127\t-1311.5119096999906\t299.39066629380596\t1.6e+03\t6:28\n",
      "30.0%\t1500000\t2999.9999999428833\t-912.9656743501475\t332.24401356457975\t1.6e+03\t6:17\n",
      "32.0%\t1600000\t3199.999999938154\t-1184.330044103728\t332.78498164167246\t1.6e+03\t6:06\n",
      "34.0%\t1700000\t3399.9999999334245\t-1199.2795475125067\t325.1705995657971\t1.6e+03\t5:55\n",
      "36.0%\t1800000\t3599.999999928695\t-773.2326344195949\t338.34454014262525\t1.6e+03\t5:45\n",
      "38.0%\t1900000\t3799.999999923966\t-1030.3315960204009\t327.1732243430562\t1.6e+03\t5:34\n",
      "40.0%\t2000000\t3999.9999999192364\t-1182.5523959550007\t330.6841468447591\t1.6e+03\t5:23\n",
      "42.0%\t2100000\t4199.999999938153\t-1195.031440734129\t324.3747928737355\t1.6e+03\t5:13\n",
      "44.0%\t2200000\t4399.999999978899\t-953.1644453426197\t334.1544070101498\t1.6e+03\t5:02\n",
      "46.0%\t2300000\t4600.000000019644\t-986.0573888251195\t349.4245506569011\t1.6e+03\t4:51\n",
      "48.0%\t2400000\t4800.0000000603895\t-1183.466093672208\t322.8872886184952\t1.6e+03\t4:41\n",
      "50.0%\t2500000\t5000.000000101135\t-1145.3756008531846\t333.72664112526047\t1.6e+03\t4:30\n",
      "52.0%\t2600000\t5200.00000014188\t-1166.9761194472583\t319.68284550180226\t1.6e+03\t4:19\n",
      "54.0%\t2700000\t5400.000000182626\t-1013.587555918238\t337.3556514836639\t1.59e+03\t4:09\n",
      "56.0%\t2800000\t5600.000000223371\t-999.9687203230719\t335.2393965985709\t1.59e+03\t3:58\n",
      "58.0%\t2900000\t5800.000000264116\t-1068.7940856334749\t313.92255015044503\t1.59e+03\t3:47\n",
      "60.0%\t3000000\t6000.000000304862\t-1004.0664912664324\t319.5467093108208\t1.59e+03\t3:36\n",
      "62.0%\t3100000\t6200.000000345607\t-937.956070524647\t337.5388418702243\t1.59e+03\t3:26\n",
      "64.0%\t3200000\t6400.000000386352\t-1200.5985229286625\t294.0668339146358\t1.59e+03\t3:15\n",
      "66.0%\t3300000\t6600.000000427098\t-1152.9758475206668\t295.16368770285754\t1.58e+03\t3:05\n",
      "68.0%\t3400000\t6800.000000467843\t-982.1639923170026\t341.90088359027567\t1.58e+03\t2:54\n",
      "70.0%\t3500000\t7000.0000005085885\t-1042.7238428644805\t343.3333211286389\t1.58e+03\t2:44\n",
      "72.0%\t3600000\t7200.000000549334\t-1242.2272061747635\t299.23271698414123\t1.58e+03\t2:33\n",
      "74.0%\t3700000\t7400.000000590079\t-1135.818052746284\t311.220182895609\t1.58e+03\t2:22\n",
      "76.0%\t3800000\t7600.000000630825\t-1001.0837335126123\t328.7996547184907\t1.58e+03\t2:11\n",
      "78.0%\t3900000\t7800.00000067157\t-1019.6851892092145\t340.22422766001125\t1.58e+03\t2:00\n",
      "80.0%\t4000000\t8000.000000712315\t-1140.5290194626475\t318.6155340103311\t1.58e+03\t1:49\n",
      "82.0%\t4100000\t8200.00000075306\t-1044.2019222416482\t331.2627313516265\t1.58e+03\t1:38\n",
      "84.0%\t4200000\t8400.000000793805\t-1013.843868066991\t349.23858707395266\t1.58e+03\t1:27\n",
      "86.0%\t4300000\t8600.00000083455\t-1168.2040404147856\t321.1638707227008\t1.58e+03\t1:16\n",
      "88.0%\t4400000\t8800.000000875296\t-1354.9498638392322\t300.8976341416222\t1.58e+03\t1:05\n",
      "90.0%\t4500000\t9000.000000916041\t-1129.1546558491816\t326.0438023048384\t1.58e+03\t0:54\n",
      "92.0%\t4600000\t9200.000000956787\t-1029.979091530937\t327.7525198846582\t1.58e+03\t0:43\n",
      "94.0%\t4700000\t9400.000000997532\t-1171.5668241241217\t316.9105027057322\t1.58e+03\t0:32\n",
      "96.0%\t4800000\t9600.000001038277\t-1258.8566951277937\t311.5833506876067\t1.58e+03\t0:21\n",
      "98.0%\t4900000\t9800.000001079023\t-1391.9161914291724\t296.90276390074644\t1.58e+03\t0:10\n",
      "100.0%\t5000000\t10000.000001119768\t-1145.6402038775623\t325.00987238280675\t1.58e+03\t0:00\n"
     ]
    }
   ],
   "source": [
    "simulation.step(md_steps)"
   ]
  },
  {
   "cell_type": "code",
   "execution_count": 16,
   "metadata": {},
   "outputs": [],
   "source": [
    "reporter_h5file.close()"
   ]
  },
  {
   "cell_type": "code",
   "execution_count": 17,
   "metadata": {},
   "outputs": [
    {
     "name": "stderr",
     "output_type": "stream",
     "text": [
      "/home/diego/Myopt/miniconda3/envs/UIBCDF_lab_dev/lib/python3.7/site-packages/tables/leaf.py:544: VisibleDeprecationWarning: Creating an ndarray from ragged nested sequences (which is a list-or-tuple of lists-or-tuples-or ndarrays with different lengths or shapes) is deprecated. If you meant to do this, you must specify 'dtype=object' when creating the ndarray\n",
      "  key = numpy.array(key)\n"
     ]
    },
    {
     "data": {
      "application/vnd.jupyter.widget-view+json": {
       "model_id": "755fd8a4baa043e194142155bef59151",
       "version_major": 2,
       "version_minor": 0
      },
      "text/plain": [
       "NGLWidget(max_frame=999)"
      ]
     },
     "metadata": {},
     "output_type": "display_data"
    }
   ],
   "source": [
    "msm.view('traj.h5')"
   ]
  },
  {
   "cell_type": "code",
   "execution_count": null,
   "metadata": {},
   "outputs": [],
   "source": []
  }
 ],
 "metadata": {
  "kernelspec": {
   "display_name": "Python 3",
   "language": "python",
   "name": "python3"
  },
  "language_info": {
   "codemirror_mode": {
    "name": "ipython",
    "version": 3
   },
   "file_extension": ".py",
   "mimetype": "text/x-python",
   "name": "python",
   "nbconvert_exporter": "python",
   "pygments_lexer": "ipython3",
   "version": "3.7.7"
  }
 },
 "nbformat": 4,
 "nbformat_minor": 4
}
