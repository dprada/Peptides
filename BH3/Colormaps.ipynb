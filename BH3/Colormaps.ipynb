{
 "cells": [
  {
   "cell_type": "code",
   "execution_count": null,
   "metadata": {},
   "outputs": [],
   "source": [
    "cdict = {'red':   [[0.0,  0.0, 0.0],\n",
    "                   [0.5,  1.0, 1.0],\n",
    "                   [1.0,  1.0, 1.0]],\n",
    "         'green': [[0.0,  0.0, 0.0],\n",
    "                   [0.25, 0.0, 0.0],\n",
    "                   [0.75, 1.0, 1.0],\n",
    "                   [1.0,  1.0, 1.0]],\n",
    "         'blue':  [[0.0,  0.0, 0.0],\n",
    "                   [0.5,  0.0, 0.0],\n",
    "                   [1.0,  1.0, 1.0]]}\n",
    "\n",
    "\n",
    "def plot_linearmap(cdict):\n",
    "    newcmp = LinearSegmentedColormap('testCmap', segmentdata=cdict, N=256)"
   ]
  },
  {
   "cell_type": "code",
   "execution_count": 1,
   "metadata": {},
   "outputs": [],
   "source": [
    "from matplotlib.colors import ListedColormap, LinearSegmentedColormap"
   ]
  },
  {
   "cell_type": "code",
   "execution_count": 5,
   "metadata": {},
   "outputs": [],
   "source": [
    "cdict = {'red':   [[0.0,  0.0, 0.0],\n",
    "                   [0.5,  1.0, 1.0],\n",
    "                   [1.0,  1.0, 1.0]],\n",
    "         'green': [[0.0,  0.0, 0.0],\n",
    "                   [1.0,  0.0, 0.0]],\n",
    "         'blue':  [[0.0,  1.0, 1.0],\n",
    "                   [0.5,  1.0, 1.0],\n",
    "                   [1.0,  0.0, 0.0]]}"
   ]
  },
  {
   "cell_type": "code",
   "execution_count": 17,
   "metadata": {},
   "outputs": [],
   "source": [
    "cmap = LinearSegmentedColormap('test', segmentdata=cdict, N=256)"
   ]
  },
  {
   "cell_type": "code",
   "execution_count": 18,
   "metadata": {},
   "outputs": [
    {
     "data": {
      "text/plain": [
       "(1.0, 0.0, 0.996078431372549, 1.0)"
      ]
     },
     "execution_count": 18,
     "metadata": {},
     "output_type": "execute_result"
    }
   ],
   "source": [
    "cmap(0.5)"
   ]
  },
  {
   "cell_type": "code",
   "execution_count": 21,
   "metadata": {},
   "outputs": [],
   "source": [
    "cmap = LinearSegmentedColormap.from_list('test1',[[0.0,[1,0,0]],[1.0,[0,0,1]]])"
   ]
  },
  {
   "cell_type": "code",
   "execution_count": 22,
   "metadata": {},
   "outputs": [
    {
     "data": {
      "text/plain": [
       "(0.4980392156862745, 0.0, 0.5019607843137255, 1.0)"
      ]
     },
     "execution_count": 22,
     "metadata": {},
     "output_type": "execute_result"
    }
   ],
   "source": [
    "cmap(0.5)"
   ]
  },
  {
   "cell_type": "code",
   "execution_count": null,
   "metadata": {},
   "outputs": [],
   "source": []
  }
 ],
 "metadata": {
  "kernelspec": {
   "display_name": "Python 3",
   "language": "python",
   "name": "python3"
  },
  "language_info": {
   "codemirror_mode": {
    "name": "ipython",
    "version": 3
   },
   "file_extension": ".py",
   "mimetype": "text/x-python",
   "name": "python",
   "nbconvert_exporter": "python",
   "pygments_lexer": "ipython3",
   "version": "3.7.7"
  }
 },
 "nbformat": 4,
 "nbformat_minor": 4
}
