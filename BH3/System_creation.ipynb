{
 "cells": [
  {
   "cell_type": "code",
   "execution_count": 1,
   "metadata": {},
   "outputs": [],
   "source": [
    "%load_ext autoreload\n",
    "%autoreload 2"
   ]
  },
  {
   "cell_type": "code",
   "execution_count": 5,
   "metadata": {},
   "outputs": [],
   "source": [
    "import molsysmt as msm\n",
    "import numpy as np"
   ]
  },
  {
   "cell_type": "markdown",
   "metadata": {},
   "source": [
    "# System Creation"
   ]
  },
  {
   "cell_type": "code",
   "execution_count": 6,
   "metadata": {},
   "outputs": [],
   "source": [
    "BH3_sequence = 'STKKLSECLKRIGDELDSNM'"
   ]
  },
  {
   "cell_type": "code",
   "execution_count": 7,
   "metadata": {},
   "outputs": [],
   "source": [
    "molecular_system = msm.build_peptide('aminoacids1:'+BH3_sequence, forcefield='AMBER14', implicit_solvent='GBSA OBC',\n",
    "                                      to_form='molsysmt.MolSys', verbose=False)"
   ]
  },
  {
   "cell_type": "code",
   "execution_count": 8,
   "metadata": {},
   "outputs": [
    {
     "data": {
      "text/html": [
       "<style  type=\"text/css\" >\n",
       "</style><table id=\"T_66293f90_d692_11ea_b2f8_6b048684f6e9\" ><thead>    <tr>        <th class=\"col_heading level0 col0\" >form</th>        <th class=\"col_heading level0 col1\" >n_atoms</th>        <th class=\"col_heading level0 col2\" >n_groups</th>        <th class=\"col_heading level0 col3\" >n_components</th>        <th class=\"col_heading level0 col4\" >n_chains</th>        <th class=\"col_heading level0 col5\" >n_molecules</th>        <th class=\"col_heading level0 col6\" >n_entities</th>        <th class=\"col_heading level0 col7\" >n_peptides</th>        <th class=\"col_heading level0 col8\" >n_frames</th>    </tr></thead><tbody>\n",
       "                <tr>\n",
       "                                <td id=\"T_66293f90_d692_11ea_b2f8_6b048684f6e9row0_col0\" class=\"data row0 col0\" >molsysmt.MolSys</td>\n",
       "                        <td id=\"T_66293f90_d692_11ea_b2f8_6b048684f6e9row0_col1\" class=\"data row0 col1\" >316</td>\n",
       "                        <td id=\"T_66293f90_d692_11ea_b2f8_6b048684f6e9row0_col2\" class=\"data row0 col2\" >20</td>\n",
       "                        <td id=\"T_66293f90_d692_11ea_b2f8_6b048684f6e9row0_col3\" class=\"data row0 col3\" >1</td>\n",
       "                        <td id=\"T_66293f90_d692_11ea_b2f8_6b048684f6e9row0_col4\" class=\"data row0 col4\" >1</td>\n",
       "                        <td id=\"T_66293f90_d692_11ea_b2f8_6b048684f6e9row0_col5\" class=\"data row0 col5\" >1</td>\n",
       "                        <td id=\"T_66293f90_d692_11ea_b2f8_6b048684f6e9row0_col6\" class=\"data row0 col6\" >1</td>\n",
       "                        <td id=\"T_66293f90_d692_11ea_b2f8_6b048684f6e9row0_col7\" class=\"data row0 col7\" >1</td>\n",
       "                        <td id=\"T_66293f90_d692_11ea_b2f8_6b048684f6e9row0_col8\" class=\"data row0 col8\" >1</td>\n",
       "            </tr>\n",
       "    </tbody></table>"
      ],
      "text/plain": [
       "<pandas.io.formats.style.Styler at 0x7f4c1d971410>"
      ]
     },
     "execution_count": 8,
     "metadata": {},
     "output_type": "execute_result"
    }
   ],
   "source": [
    "msm.info(molecular_system)"
   ]
  },
  {
   "cell_type": "code",
   "execution_count": 9,
   "metadata": {},
   "outputs": [
    {
     "name": "stdout",
     "output_type": "stream",
     "text": [
      "Missing residues: {}\n",
      "Non standard residues: []\n",
      "Missing atoms {}\n",
      "Missing terminals: {<Residue 19 (MET) of chain 0>: ['OXT']}\n",
      "Missing residues or atoms reported fixed.\n",
      "Missing hydrogens added (PDBFixer gives no details).\n"
     ]
    }
   ],
   "source": [
    "molecular_system = msm.fix(molecular_system, verbose=True)"
   ]
  },
  {
   "cell_type": "code",
   "execution_count": 10,
   "metadata": {},
   "outputs": [
    {
     "data": {
      "text/html": [
       "<style  type=\"text/css\" >\n",
       "</style><table id=\"T_699d09a4_d692_11ea_b2f8_6b048684f6e9\" ><thead>    <tr>        <th class=\"col_heading level0 col0\" >form</th>        <th class=\"col_heading level0 col1\" >n_atoms</th>        <th class=\"col_heading level0 col2\" >n_groups</th>        <th class=\"col_heading level0 col3\" >n_components</th>        <th class=\"col_heading level0 col4\" >n_chains</th>        <th class=\"col_heading level0 col5\" >n_molecules</th>        <th class=\"col_heading level0 col6\" >n_entities</th>        <th class=\"col_heading level0 col7\" >n_peptides</th>        <th class=\"col_heading level0 col8\" >n_frames</th>    </tr></thead><tbody>\n",
       "                <tr>\n",
       "                                <td id=\"T_699d09a4_d692_11ea_b2f8_6b048684f6e9row0_col0\" class=\"data row0 col0\" >molsysmt.MolSys</td>\n",
       "                        <td id=\"T_699d09a4_d692_11ea_b2f8_6b048684f6e9row0_col1\" class=\"data row0 col1\" >319</td>\n",
       "                        <td id=\"T_699d09a4_d692_11ea_b2f8_6b048684f6e9row0_col2\" class=\"data row0 col2\" >20</td>\n",
       "                        <td id=\"T_699d09a4_d692_11ea_b2f8_6b048684f6e9row0_col3\" class=\"data row0 col3\" >1</td>\n",
       "                        <td id=\"T_699d09a4_d692_11ea_b2f8_6b048684f6e9row0_col4\" class=\"data row0 col4\" >1</td>\n",
       "                        <td id=\"T_699d09a4_d692_11ea_b2f8_6b048684f6e9row0_col5\" class=\"data row0 col5\" >1</td>\n",
       "                        <td id=\"T_699d09a4_d692_11ea_b2f8_6b048684f6e9row0_col6\" class=\"data row0 col6\" >1</td>\n",
       "                        <td id=\"T_699d09a4_d692_11ea_b2f8_6b048684f6e9row0_col7\" class=\"data row0 col7\" >1</td>\n",
       "                        <td id=\"T_699d09a4_d692_11ea_b2f8_6b048684f6e9row0_col8\" class=\"data row0 col8\" >1</td>\n",
       "            </tr>\n",
       "    </tbody></table>"
      ],
      "text/plain": [
       "<pandas.io.formats.style.Styler at 0x7f4c1c739b10>"
      ]
     },
     "execution_count": 10,
     "metadata": {},
     "output_type": "execute_result"
    }
   ],
   "source": [
    "msm.info(molecular_system)"
   ]
  },
  {
   "cell_type": "code",
   "execution_count": 11,
   "metadata": {},
   "outputs": [
    {
     "data": {
      "application/vnd.jupyter.widget-view+json": {
       "model_id": "05fce08cc8cd43b2960ac77afde36e79",
       "version_major": 2,
       "version_minor": 0
      },
      "text/plain": [
       "NGLWidget()"
      ]
     },
     "metadata": {},
     "output_type": "display_data"
    }
   ],
   "source": [
    "view = msm.view(molecular_system)\n",
    "view.clear()\n",
    "view.add_licorice()\n",
    "view"
   ]
  },
  {
   "cell_type": "code",
   "execution_count": 45,
   "metadata": {},
   "outputs": [
    {
     "data": {
      "text/plain": [
       "Quantity(value=0, unit=elementary charge)"
      ]
     },
     "execution_count": 45,
     "metadata": {},
     "output_type": "execute_result"
    }
   ],
   "source": [
    "msm.physchem.get_charge(molecular_system, target='system', type='ForceField', forcefield='AMBER14')"
   ]
  },
  {
   "cell_type": "code",
   "execution_count": 46,
   "metadata": {},
   "outputs": [],
   "source": [
    "charge_residues = msm.physchem.get_charge(molecular_system, target='group', type='ForceField', forcefield='AMBER14')"
   ]
  },
  {
   "cell_type": "code",
   "execution_count": 47,
   "metadata": {},
   "outputs": [
    {
     "data": {
      "text/plain": [
       "Quantity(value=1.0, unit=elementary charge)"
      ]
     },
     "execution_count": 47,
     "metadata": {},
     "output_type": "execute_result"
    }
   ],
   "source": [
    "charge_residues[0]"
   ]
  },
  {
   "cell_type": "code",
   "execution_count": 48,
   "metadata": {},
   "outputs": [
    {
     "data": {
      "text/plain": [
       "Quantity(value=-1.0, unit=elementary charge)"
      ]
     },
     "execution_count": 48,
     "metadata": {},
     "output_type": "execute_result"
    }
   ],
   "source": [
    "charge_residues[-1]"
   ]
  },
  {
   "cell_type": "markdown",
   "metadata": {},
   "source": [
    "How the PES and FEL changes when the terminals are capping with ACE and NME? And when aminoacids have differen protonation states? There is at least a HIS aminoacid."
   ]
  },
  {
   "cell_type": "code",
   "execution_count": 49,
   "metadata": {},
   "outputs": [],
   "source": [
    "msm.convert(molecular_system, to_form='BH3.pdb')"
   ]
  },
  {
   "cell_type": "code",
   "execution_count": null,
   "metadata": {},
   "outputs": [],
   "source": []
  }
 ],
 "metadata": {
  "kernelspec": {
   "display_name": "Python 3",
   "language": "python",
   "name": "python3"
  },
  "language_info": {
   "codemirror_mode": {
    "name": "ipython",
    "version": 3
   },
   "file_extension": ".py",
   "mimetype": "text/x-python",
   "name": "python",
   "nbconvert_exporter": "python",
   "pygments_lexer": "ipython3",
   "version": "3.7.7"
  }
 },
 "nbformat": 4,
 "nbformat_minor": 4
}
