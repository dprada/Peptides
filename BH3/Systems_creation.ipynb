{
 "cells": [
  {
   "cell_type": "code",
   "execution_count": 1,
   "metadata": {},
   "outputs": [],
   "source": [
    "%load_ext autoreload\n",
    "%autoreload 2"
   ]
  },
  {
   "cell_type": "code",
   "execution_count": 2,
   "metadata": {},
   "outputs": [
    {
     "data": {
      "application/vnd.jupyter.widget-view+json": {
       "model_id": "5cbe506822654a69916f0d3b85030a21",
       "version_major": 2,
       "version_minor": 0
      },
      "text/plain": []
     },
     "metadata": {},
     "output_type": "display_data"
    }
   ],
   "source": [
    "import molsysmt as msm"
   ]
  },
  {
   "cell_type": "markdown",
   "metadata": {},
   "source": [
    "# System Creation"
   ]
  },
  {
   "cell_type": "code",
   "execution_count": 3,
   "metadata": {},
   "outputs": [],
   "source": [
    "BH3_sequence = 'STKKLSECLKRIGDELDSNM'"
   ]
  },
  {
   "cell_type": "code",
   "execution_count": 4,
   "metadata": {},
   "outputs": [],
   "source": [
    "molecular_system = msm.build_peptide('aminoacids1:'+BH3_sequence, forcefield='AMBER14', implicit_solvent='GBSA OBC',\n",
    "                                      to_form='molsysmt.MolSys', verbose=False)"
   ]
  },
  {
   "cell_type": "code",
   "execution_count": 5,
   "metadata": {},
   "outputs": [],
   "source": [
    "molecular_system = msm.remove_hydrogens(molecular_system)\n",
    "molecular_system = msm.fix(molecular_system, pH=7.4, verbose=False)\n",
    "msm.convert(molecular_system, to_form='BH3.pdb')"
   ]
  },
  {
   "cell_type": "code",
   "execution_count": 6,
   "metadata": {},
   "outputs": [],
   "source": [
    "molecular_system_pH0 = msm.remove_hydrogens(molecular_system)\n",
    "molecular_system_pH0 = msm.fix(molecular_system_pH0, pH=0, verbose=False)\n",
    "msm.convert(molecular_system, to_form='BH3_pH0.pdb')"
   ]
  },
  {
   "cell_type": "code",
   "execution_count": 7,
   "metadata": {},
   "outputs": [],
   "source": [
    "molecular_system_pH14 = msm.remove_hydrogens(molecular_system)\n",
    "molecular_system_pH14 = msm.fix(molecular_system_pH14, pH=14, verbose=False)\n",
    "msm.convert(molecular_system, to_form='BH3_pH14.pdb')"
   ]
  },
  {
   "cell_type": "code",
   "execution_count": 9,
   "metadata": {},
   "outputs": [],
   "source": [
    "molecular_system_capped = msm.add_terminal_capping(molecular_system, N_terminal='ACE', C_terminal='NME')\n",
    "molecular_system_capped = msm.remove_hydrogens(molecular_system_capped)\n",
    "molecular_system_capped = msm.fix(molecular_system_capped, pH=14, verbose=False)\n",
    "msm.convert(molecular_system, to_form='BH3_capped.pdb')"
   ]
  }
 ],
 "metadata": {
  "kernelspec": {
   "display_name": "Python 3",
   "language": "python",
   "name": "python3"
  },
  "language_info": {
   "codemirror_mode": {
    "name": "ipython",
    "version": 3
   },
   "file_extension": ".py",
   "mimetype": "text/x-python",
   "name": "python",
   "nbconvert_exporter": "python",
   "pygments_lexer": "ipython3",
   "version": "3.7.7"
  }
 },
 "nbformat": 4,
 "nbformat_minor": 4
}
