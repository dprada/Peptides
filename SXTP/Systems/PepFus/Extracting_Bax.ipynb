{
 "cells": [
  {
   "cell_type": "code",
   "execution_count": 1,
   "metadata": {},
   "outputs": [],
   "source": [
    "%load_ext autoreload\n",
    "%autoreload 2"
   ]
  },
  {
   "cell_type": "code",
   "execution_count": 2,
   "metadata": {},
   "outputs": [
    {
     "data": {
      "application/vnd.jupyter.widget-view+json": {
       "model_id": "a8859834b72d46f1a99fd29b294c6478",
       "version_major": 2,
       "version_minor": 0
      },
      "text/plain": []
     },
     "metadata": {},
     "output_type": "display_data"
    }
   ],
   "source": [
    "import molsysmt as msm\n",
    "import nglview as nv\n",
    "import numpy as np"
   ]
  },
  {
   "cell_type": "markdown",
   "metadata": {},
   "source": [
    "# Extracting Bax\n",
    "\n",
    "From the original file 'PepFus.pdb', the segment corresponding to the Bax BH3 peptide (X) is extracted:"
   ]
  },
  {
   "cell_type": "code",
   "execution_count": 3,
   "metadata": {},
   "outputs": [],
   "source": [
    "SXTP = msm.convert('PepFus.pdb')"
   ]
  },
  {
   "cell_type": "code",
   "execution_count": 4,
   "metadata": {},
   "outputs": [],
   "source": [
    "X_sequence = \"aminoacids1:STKKLSECLKRIGDELDSNM\""
   ]
  },
  {
   "cell_type": "code",
   "execution_count": 5,
   "metadata": {},
   "outputs": [
    {
     "name": "stdout",
     "output_type": "stream",
     "text": [
      "\u001b[1;34;48mA\u001b[m\u001b[1;34;48mR\u001b[m\u001b[1;34;48mC\u001b[m\u001b[1;34;48mE\u001b[m\u001b[1;34;48mA\u001b[m\u001b[1;34;48mA\u001b[m\u001b[1;34;48mA\u001b[m\u001b[1;34;48mA\u001b[m\u001b[1;34;48mA\u001b[m\u001b[1;34;48mE\u001b[m\u001b[1;34;48mA\u001b[m\u001b[1;34;48mA\u001b[m\u001b[1;34;48mA\u001b[m\u001b[1;34;48mA\u001b[m\u001b[1;34;48mA\u001b[m\u001b[1;34;48mE\u001b[m\u001b[1;34;48mA\u001b[m\u001b[1;34;48mA\u001b[m\u001b[1;34;48mA\u001b[m\u001b[1;34;48mA\u001b[m\u001b[1;34;48mA\u001b[m\u001b[1;34;48mE\u001b[m\u001b[1;34;48mA\u001b[m\u001b[1;34;48mA\u001b[m\u001b[1;34;48mA\u001b[m\u001b[1;34;48mA\u001b[m\u001b[1;34;48mA\u001b[m\u001b[1;34;48mA\u001b[m\u001b[1;34;48mR\u001b[m\u001b[1;34;48mD\u001b[m\u001b[1;34;48mY\u001b[m\u001b[1;34;48mK\u001b[m\u001b[1;34;48mD\u001b[m\u001b[1;34;48mD\u001b[m\u001b[1;34;48mD\u001b[m\u001b[1;34;48mD\u001b[m\u001b[1;34;48mK\u001b[m\u001b[1;34;48mA\u001b[m\u001b[1;34;48mR\u001b[mSTKKLSECLKRIGDELDSNM\u001b[1;34;48mA\u001b[m\u001b[1;34;48mR\u001b[m\u001b[1;34;48mK\u001b[m\u001b[1;34;48mR\u001b[m\u001b[1;34;48mP\u001b[m\u001b[1;34;48mG\u001b[m\u001b[1;34;48mG\u001b[m\u001b[1;34;48mG\u001b[m\u001b[1;34;48mG\u001b[m\u001b[1;34;48mG\u001b[m\u001b[1;34;48mK\u001b[m\u001b[1;34;48mR\u001b[m\u001b[1;34;48mG\u001b[m\u001b[1;34;48mG\u001b[m\u001b[1;34;48mG\u001b[m\u001b[1;34;48mG\u001b[m\u001b[1;34;48mG\u001b[m\u001b[1;34;48mP\u001b[m\u001b[1;34;48mK\u001b[m\u001b[1;34;48mR\u001b[m\u001b[1;34;48mA\u001b[m\u001b[1;34;48mS\u001b[m\n",
      "\n",
      "---------------------------------------STKKLSECLKRIGDELDSNM----------------------\n"
     ]
    }
   ],
   "source": [
    "msm.sequence_alignment(SXTP, X_sequence, prettyprint=True)"
   ]
  },
  {
   "cell_type": "code",
   "execution_count": 6,
   "metadata": {},
   "outputs": [],
   "source": [
    "_, groups_X_in_SXTP, _ = msm.sequence_identity(SXTP, X_sequence, target_intersection_set=\"group\")"
   ]
  },
  {
   "cell_type": "code",
   "execution_count": 7,
   "metadata": {},
   "outputs": [
    {
     "name": "stdout",
     "output_type": "stream",
     "text": [
      "[39, 40, 41, 42, 43, 44, 45, 46, 47, 48, 49, 50, 51, 52, 53, 54, 55, 56, 57, 58]\n"
     ]
    }
   ],
   "source": [
    "print(groups_X_in_SXTP)"
   ]
  },
  {
   "cell_type": "code",
   "execution_count": 8,
   "metadata": {},
   "outputs": [],
   "source": [
    "X = msm.extract(SXTP, selection=\"group_index in @groups_X_in_SXTP\")"
   ]
  },
  {
   "cell_type": "markdown",
   "metadata": {},
   "source": [
    "The peptide is already protonated:"
   ]
  },
  {
   "cell_type": "code",
   "execution_count": 12,
   "metadata": {},
   "outputs": [
    {
     "data": {
      "text/plain": [
       "161"
      ]
     },
     "execution_count": 12,
     "metadata": {},
     "output_type": "execute_result"
    }
   ],
   "source": [
    "msm.get(X, target='atom', selection='atom_type==\"H\"', n_atoms=True)"
   ]
  },
  {
   "cell_type": "markdown",
   "metadata": {},
   "source": [
    "But since it was trimmed from a bigger chain, X has now no terminals. Let's add the N- and C- terminal capping."
   ]
  },
  {
   "cell_type": "code",
   "execution_count": 13,
   "metadata": {},
   "outputs": [
    {
     "data": {
      "text/plain": [
       "<molsysmt.native.molsys.MolSys at 0x7ff12e15a810>"
      ]
     },
     "execution_count": 13,
     "metadata": {},
     "output_type": "execute_result"
    }
   ],
   "source": [
    "X = msm.add_terminal_capping(X, N_terminal='ACE', C_terminal='NME')"
   ]
  },
  {
   "cell_type": "code",
   "execution_count": 15,
   "metadata": {},
   "outputs": [
    {
     "data": {
      "text/html": [
       "<style  type=\"text/css\" >\n",
       "</style><table id=\"T_5cc945aa_c88f_11ea_b669_61980fddc6fd\" ><thead>    <tr>        <th class=\"col_heading level0 col0\" >form</th>        <th class=\"col_heading level0 col1\" >n_atoms</th>        <th class=\"col_heading level0 col2\" >n_groups</th>        <th class=\"col_heading level0 col3\" >n_components</th>        <th class=\"col_heading level0 col4\" >n_chains</th>        <th class=\"col_heading level0 col5\" >n_molecules</th>        <th class=\"col_heading level0 col6\" >n_entities</th>        <th class=\"col_heading level0 col7\" >n_proteins</th>        <th class=\"col_heading level0 col8\" >n_frames</th>    </tr></thead><tbody>\n",
       "                <tr>\n",
       "                                <td id=\"T_5cc945aa_c88f_11ea_b669_61980fddc6fdrow0_col0\" class=\"data row0 col0\" >molsysmt.MolSys</td>\n",
       "                        <td id=\"T_5cc945aa_c88f_11ea_b669_61980fddc6fdrow0_col1\" class=\"data row0 col1\" >316</td>\n",
       "                        <td id=\"T_5cc945aa_c88f_11ea_b669_61980fddc6fdrow0_col2\" class=\"data row0 col2\" >20</td>\n",
       "                        <td id=\"T_5cc945aa_c88f_11ea_b669_61980fddc6fdrow0_col3\" class=\"data row0 col3\" >1</td>\n",
       "                        <td id=\"T_5cc945aa_c88f_11ea_b669_61980fddc6fdrow0_col4\" class=\"data row0 col4\" >1</td>\n",
       "                        <td id=\"T_5cc945aa_c88f_11ea_b669_61980fddc6fdrow0_col5\" class=\"data row0 col5\" >1</td>\n",
       "                        <td id=\"T_5cc945aa_c88f_11ea_b669_61980fddc6fdrow0_col6\" class=\"data row0 col6\" >1</td>\n",
       "                        <td id=\"T_5cc945aa_c88f_11ea_b669_61980fddc6fdrow0_col7\" class=\"data row0 col7\" >1</td>\n",
       "                        <td id=\"T_5cc945aa_c88f_11ea_b669_61980fddc6fdrow0_col8\" class=\"data row0 col8\" >1</td>\n",
       "            </tr>\n",
       "    </tbody></table>"
      ],
      "text/plain": [
       "<pandas.io.formats.style.Styler at 0x7ff12ec7fcd0>"
      ]
     },
     "execution_count": 15,
     "metadata": {},
     "output_type": "execute_result"
    }
   ],
   "source": [
    "msm.info(X)"
   ]
  },
  {
   "cell_type": "code",
   "execution_count": 16,
   "metadata": {},
   "outputs": [
    {
     "data": {
      "application/vnd.jupyter.widget-view+json": {
       "model_id": "517bc68be9944b76b348b735842ac00c",
       "version_major": 2,
       "version_minor": 0
      },
      "text/plain": [
       "NGLWidget()"
      ]
     },
     "metadata": {},
     "output_type": "display_data"
    }
   ],
   "source": [
    "msm.view(X)"
   ]
  },
  {
   "cell_type": "markdown",
   "metadata": {},
   "source": [
    "Let's finnally save this peptide to a pdb file."
   ]
  },
  {
   "cell_type": "code",
   "execution_count": 18,
   "metadata": {},
   "outputs": [],
   "source": [
    "msm.convert(X, to_form='Bax_BH3.pdb')"
   ]
  }
 ],
 "metadata": {
  "kernelspec": {
   "display_name": "Python 3",
   "language": "python",
   "name": "python3"
  },
  "language_info": {
   "codemirror_mode": {
    "name": "ipython",
    "version": 3
   },
   "file_extension": ".py",
   "mimetype": "text/x-python",
   "name": "python",
   "nbconvert_exporter": "python",
   "pygments_lexer": "ipython3",
   "version": "3.7.7"
  }
 },
 "nbformat": 4,
 "nbformat_minor": 4
}
