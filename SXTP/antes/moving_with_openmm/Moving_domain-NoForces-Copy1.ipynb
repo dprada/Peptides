{
 "cells": [
  {
   "cell_type": "code",
   "execution_count": 1,
   "metadata": {},
   "outputs": [],
   "source": [
    "%load_ext autoreload\n",
    "%autoreload 2"
   ]
  },
  {
   "cell_type": "code",
   "execution_count": 2,
   "metadata": {},
   "outputs": [
    {
     "name": "stderr",
     "output_type": "stream",
     "text": [
      "/home/diego/Myopt/Miniconda/miniconda3/envs/UIBCDF_lab_dev/lib/python3.7/site-packages/yank/experiment.py:1161: YAMLLoadWarning: calling yaml.load() without Loader=... is deprecated, as the default Loader is unsafe. Please read https://msg.pyyaml.org/load for full details.\n",
      "  \"\"\")\n"
     ]
    }
   ],
   "source": [
    "import molmodmt as m3t\n",
    "import simtk.openmm as mm\n",
    "import simtk.unit as unit\n",
    "import simtk.openmm.app as app\n",
    "import numpy as np\n",
    "from sys import stdout"
   ]
  },
  {
   "cell_type": "markdown",
   "metadata": {},
   "source": [
    "## Procesando el archivo pdb\n",
    "Cargamos el pdb del sistema y arreglamos con PDBFixer los posibles defectos como carencia de residuos, terminales o átomos:"
   ]
  },
  {
   "cell_type": "code",
   "execution_count": 3,
   "metadata": {},
   "outputs": [],
   "source": [
    "system_modeller = m3t.fix_pdb_structure('MisL_Phyre.pdb',output_form='openmm.Modeller')"
   ]
  },
  {
   "cell_type": "code",
   "execution_count": 4,
   "metadata": {},
   "outputs": [
    {
     "name": "stdout",
     "output_type": "stream",
     "text": [
      "Potential Energy before minimization: 1942911897791091.2 kJ/mol\n",
      "Potential Energy after minimization: -24168.1397641843 kJ/mol\n"
     ]
    }
   ],
   "source": [
    "system_modeller_minimized = m3t.energy_minimization(system_modeller)"
   ]
  },
  {
   "cell_type": "code",
   "execution_count": 5,
   "metadata": {},
   "outputs": [
    {
     "data": {
      "application/vnd.jupyter.widget-view+json": {
       "model_id": "210c00b7fe0449b6b6db559d93bece64",
       "version_major": 2,
       "version_minor": 0
      },
      "text/plain": [
       "NGLWidget()"
      ]
     },
     "metadata": {},
     "output_type": "display_data"
    }
   ],
   "source": [
    "m3t.view([system_modeller, system_modeller_minimized])"
   ]
  },
  {
   "cell_type": "code",
   "execution_count": 6,
   "metadata": {},
   "outputs": [],
   "source": [
    "initial_positions = m3t.get(system_modeller_minimized, coordinates=True)\n",
    "topology = m3t.convert(system_modeller_minimized,'openmm.Topology')"
   ]
  },
  {
   "cell_type": "code",
   "execution_count": 7,
   "metadata": {},
   "outputs": [],
   "source": [
    "forcefield = app.ForceField('amber99sbildn.xml')"
   ]
  },
  {
   "cell_type": "code",
   "execution_count": 8,
   "metadata": {},
   "outputs": [],
   "source": [
    "system = forcefield.createSystem(topology, constraints=app.HBonds)"
   ]
  },
  {
   "cell_type": "markdown",
   "metadata": {},
   "source": [
    "## Creando la simulación"
   ]
  },
  {
   "cell_type": "code",
   "execution_count": 9,
   "metadata": {},
   "outputs": [],
   "source": [
    "kB = unit.BOLTZMANN_CONSTANT_kB * unit.AVOGADRO_CONSTANT_NA\n",
    "temperature = 0*unit.kelvin\n",
    "pressure    = None"
   ]
  },
  {
   "cell_type": "code",
   "execution_count": 10,
   "metadata": {},
   "outputs": [],
   "source": [
    "friction   = 100000.0/unit.picosecond\n",
    "step_size  = 2.0*unit.femtoseconds\n",
    "integrator = mm.LangevinIntegrator(temperature, friction, step_size)\n",
    "integrator.setConstraintTolerance(0.00001)"
   ]
  },
  {
   "cell_type": "code",
   "execution_count": 11,
   "metadata": {},
   "outputs": [],
   "source": [
    "simulation_time = 0.005*unit.nanoseconds\n",
    "saving_time = 0.0005*unit.nanoseconds\n",
    "simulation_steps = round(simulation_time/step_size)\n",
    "saving_steps     = round(saving_time/step_size)\n",
    "num_steps_saved  = round(simulation_steps/saving_steps)"
   ]
  },
  {
   "cell_type": "code",
   "execution_count": 12,
   "metadata": {},
   "outputs": [
    {
     "name": "stdout",
     "output_type": "stream",
     "text": [
      "Simulation steps: 2500\n",
      "Saving steps: 250\n",
      "Saved steps: 10\n"
     ]
    }
   ],
   "source": [
    "print('Simulation steps:', simulation_steps)\n",
    "print('Saving steps:', saving_steps)\n",
    "print('Saved steps:', num_steps_saved)"
   ]
  },
  {
   "cell_type": "code",
   "execution_count": 13,
   "metadata": {},
   "outputs": [],
   "source": [
    "platform = mm.Platform.getPlatformByName('CUDA')\n",
    "properties = {'CudaPrecision': 'mixed'}"
   ]
  },
  {
   "cell_type": "code",
   "execution_count": 14,
   "metadata": {},
   "outputs": [],
   "source": [
    "simulation = app.Simulation(topology, system, integrator, platform, properties)"
   ]
  },
  {
   "cell_type": "code",
   "execution_count": 15,
   "metadata": {},
   "outputs": [],
   "source": [
    "simulation.context.setPositions(initial_positions)\n",
    "simulation.context.setVelocitiesToTemperature(0*unit.kelvin)"
   ]
  },
  {
   "cell_type": "code",
   "execution_count": 16,
   "metadata": {},
   "outputs": [],
   "source": [
    "simulation.reporters.append(app.DCDReporter('trajectory.dcd', saving_steps))\n",
    "simulation.reporters.append(app.StateDataReporter(stdout, saving_steps, step=True,\n",
    "                            progress=True, remainingTime=True, speed=True,\n",
    "                            totalSteps=simulation_steps, separator='\\t'))"
   ]
  },
  {
   "cell_type": "code",
   "execution_count": 17,
   "metadata": {},
   "outputs": [
    {
     "name": "stdout",
     "output_type": "stream",
     "text": [
      "#\"Progress (%)\"\t\"Step\"\t\"Speed (ns/day)\"\t\"Time Remaining\"\n",
      "10.0%\t250\t0\t--\n",
      "20.0%\t500\t77.5\t0:04\n",
      "30.0%\t750\t77\t0:03\n",
      "40.0%\t1000\t76.8\t0:03\n",
      "50.0%\t1250\t76.9\t0:02\n",
      "60.0%\t1500\t76.9\t0:02\n",
      "70.0%\t1750\t76.8\t0:01\n",
      "80.0%\t2000\t76.9\t0:01\n",
      "90.0%\t2250\t76.7\t0:00\n",
      "100.0%\t2500\t74.8\t0:00\n"
     ]
    }
   ],
   "source": [
    "simulation.step(simulation_steps)"
   ]
  },
  {
   "cell_type": "code",
   "execution_count": 18,
   "metadata": {},
   "outputs": [],
   "source": [
    "traj_md = m3t.load('trajectory.dcd','mdtraj',topology=topology)"
   ]
  },
  {
   "cell_type": "code",
   "execution_count": 19,
   "metadata": {},
   "outputs": [
    {
     "data": {
      "application/vnd.jupyter.widget-view+json": {
       "model_id": "4882347774264712b94ee40a9eeb3e21",
       "version_major": 2,
       "version_minor": 0
      },
      "text/plain": [
       "NGLWidget(count=10)"
      ]
     },
     "metadata": {},
     "output_type": "display_data"
    }
   ],
   "source": [
    "m3t.view(traj_md)"
   ]
  },
  {
   "cell_type": "code",
   "execution_count": null,
   "metadata": {},
   "outputs": [],
   "source": []
  }
 ],
 "metadata": {
  "kernelspec": {
   "display_name": "Python 3",
   "language": "python",
   "name": "python3"
  },
  "language_info": {
   "codemirror_mode": {
    "name": "ipython",
    "version": 3
   },
   "file_extension": ".py",
   "mimetype": "text/x-python",
   "name": "python",
   "nbconvert_exporter": "python",
   "pygments_lexer": "ipython3",
   "version": "3.7.1"
  }
 },
 "nbformat": 4,
 "nbformat_minor": 2
}
