{
 "cells": [
  {
   "cell_type": "code",
   "execution_count": 1,
   "metadata": {},
   "outputs": [],
   "source": [
    "%load_ext autoreload\n",
    "%autoreload 2"
   ]
  },
  {
   "cell_type": "code",
   "execution_count": 2,
   "metadata": {},
   "outputs": [
    {
     "name": "stderr",
     "output_type": "stream",
     "text": [
      "/home/diego/Myopt/Miniconda/miniconda3/envs/UIBCDF_lab_dev/lib/python3.7/site-packages/yank/experiment.py:1161: YAMLLoadWarning: calling yaml.load() without Loader=... is deprecated, as the default Loader is unsafe. Please read https://msg.pyyaml.org/load for full details.\n",
      "  \"\"\")\n"
     ]
    }
   ],
   "source": [
    "import molmodmt as m3t\n",
    "import simtk.openmm as mm\n",
    "import simtk.unit as unit\n",
    "import simtk.openmm.app as app\n",
    "import numpy as np\n",
    "from sys import stdout"
   ]
  },
  {
   "cell_type": "markdown",
   "metadata": {},
   "source": [
    "# Preparación del sistema"
   ]
  },
  {
   "cell_type": "markdown",
   "metadata": {},
   "source": [
    "## Procesando el archivo pdb\n",
    "Cargamos el pdb del sistema y arreglamos con PDBFixer los posibles defectos como carencia de residuos, terminales o átomos:"
   ]
  },
  {
   "cell_type": "code",
   "execution_count": null,
   "metadata": {},
   "outputs": [],
   "source": [
    "system_modeller = m3t.fix_pdb_structure('MisL_Phyre.pdb',output_form='openmm.Modeller')"
   ]
  },
  {
   "cell_type": "markdown",
   "metadata": {},
   "source": [
    "### Minimizamos el sistema"
   ]
  },
  {
   "cell_type": "code",
   "execution_count": null,
   "metadata": {},
   "outputs": [],
   "source": [
    "system_modeller_minimized = m3t.energy_minimization(system_modeller)"
   ]
  },
  {
   "cell_type": "code",
   "execution_count": null,
   "metadata": {},
   "outputs": [],
   "source": [
    "if False: m3t.view([system_modeller, system_modeller_minimized])"
   ]
  },
  {
   "cell_type": "code",
   "execution_count": null,
   "metadata": {},
   "outputs": [],
   "source": [
    "initial_positions = m3t.get(system_modeller_minimized, coordinates=True)\n",
    "topology = m3t.convert(system_modeller_minimized,'openmm.Topology')"
   ]
  },
  {
   "cell_type": "markdown",
   "metadata": {},
   "source": [
    "# Tiramos de un extremo aplicando restraints y constraints a parte de la molécula."
   ]
  },
  {
   "cell_type": "markdown",
   "metadata": {},
   "source": [
    "### Listas de átomos sobre las que aplicar restricciones"
   ]
  },
  {
   "cell_type": "markdown",
   "metadata": {},
   "source": [
    "Aplicamos restricciones espaciales de tipo harmónico a todos los átomos del dominio barril intra-membrana:"
   ]
  },
  {
   "cell_type": "code",
   "execution_count": null,
   "metadata": {},
   "outputs": [],
   "source": [
    "list_atoms_positions_restrained = m3t.select(topology, 'resid 183 to 504')"
   ]
  },
  {
   "cell_type": "code",
   "execution_count": null,
   "metadata": {},
   "outputs": [],
   "source": [
    "if False:\n",
    "    m3t.view(system_modeller_minimized, selection=list_atoms_positions_restrained)"
   ]
  },
  {
   "cell_type": "markdown",
   "metadata": {},
   "source": [
    "Aplicamos restricciones a todas las distancias relativas entre todos los átomos CA y CB correspondientes al \"nucleo\" del dominio extracelular:"
   ]
  },
  {
   "cell_type": "code",
   "execution_count": null,
   "metadata": {},
   "outputs": [],
   "source": [
    "list_CAs_distances_constrained = m3t.select(topology, 'resid 2 to 109 and name CA')\n",
    "list_CBs_distances_constrained = m3t.select(topology, 'resid 2 to 109 and name CB')"
   ]
  },
  {
   "cell_type": "code",
   "execution_count": null,
   "metadata": {},
   "outputs": [],
   "source": [
    "if False:\n",
    "    view = m3t.view(system_modeller_minimized, selection=list_CAs_distances_constrained)\n",
    "    view.clear()\n",
    "    view.add_ball_and_stick()\n",
    "    view"
   ]
  },
  {
   "cell_type": "code",
   "execution_count": null,
   "metadata": {},
   "outputs": [],
   "source": [
    "atom_to_pull = m3t.select(topology, 'resid 0 and name CA')[0]"
   ]
  },
  {
   "cell_type": "markdown",
   "metadata": {},
   "source": [
    "## Creando el sistema a simular"
   ]
  },
  {
   "cell_type": "code",
   "execution_count": null,
   "metadata": {},
   "outputs": [],
   "source": [
    "forcefield = app.ForceField('amber99sbildn.xml')"
   ]
  },
  {
   "cell_type": "code",
   "execution_count": null,
   "metadata": {},
   "outputs": [],
   "source": [
    "system = forcefield.createSystem(topology, constraints=app.HBonds)"
   ]
  },
  {
   "cell_type": "markdown",
   "metadata": {},
   "source": [
    "### Añadiños las fuerzas externas de posición (restraints) e internas de distancias (constraints)"
   ]
  },
  {
   "cell_type": "markdown",
   "metadata": {},
   "source": [
    "### Restricciones harmónicas de posición"
   ]
  },
  {
   "cell_type": "code",
   "execution_count": null,
   "metadata": {},
   "outputs": [],
   "source": []
  },
  {
   "cell_type": "code",
   "execution_count": null,
   "metadata": {},
   "outputs": [],
   "source": [
    "harmonic_restraint_potential = \"0.5*K*((x-xo)^2 + (y-yo)^2 + (z-zo)^2)\""
   ]
  },
  {
   "cell_type": "code",
   "execution_count": null,
   "metadata": {},
   "outputs": [],
   "source": [
    "harmonic_restraint_force = mm.CustomExternalForce(harmonic_restraint_potential)"
   ]
  },
  {
   "cell_type": "code",
   "execution_count": null,
   "metadata": {},
   "outputs": [],
   "source": [
    "harmonic_restraint_force.addGlobalParameter('K', 50.0 * unit.kilocalories_per_mole/unit.angstrom**2)\n",
    "harmonic_restraint_force.addPerParticleParameter('xo')\n",
    "harmonic_restraint_force.addPerParticleParameter('yo')\n",
    "harmonic_restraint_force.addPerParticleParameter('zo')"
   ]
  },
  {
   "cell_type": "code",
   "execution_count": null,
   "metadata": {},
   "outputs": [],
   "source": [
    "for index in list_atoms_positions_restrained:\n",
    "    parameters = initial_positions[index].value_in_unit_system(unit.md_unit_system)\n",
    "    harmonic_restraint_force.addParticle(int(index), parameters)"
   ]
  },
  {
   "cell_type": "code",
   "execution_count": null,
   "metadata": {},
   "outputs": [],
   "source": [
    "system.addForce(harmonic_restraint_force)"
   ]
  },
  {
   "cell_type": "markdown",
   "metadata": {},
   "source": [
    "### Restricciones harmónicas de distancia"
   ]
  },
  {
   "cell_type": "code",
   "execution_count": null,
   "metadata": {},
   "outputs": [],
   "source": [
    "# https://simtk.org/api_docs/openmm/api4_1/python/classsimtk_1_1openmm_1_1openmm_1_1HarmonicBondForce.html\n",
    "# https://simtk.org/api_docs/openmm/api4_1/python/classsimtk_1_1openmm_1_1openmm_1_1CustomBondForce.html#_details\n",
    "harmonic_bond_force = mm.HarmonicBondForce()"
   ]
  },
  {
   "cell_type": "code",
   "execution_count": null,
   "metadata": {},
   "outputs": [],
   "source": [
    "num_atoms_list_CAs = len(list_CAs_distances_constrained)\n",
    "\n",
    "k_cas = 10.0 * unit.kilocalories_per_mole/unit.angstrom**2\n",
    "\n",
    "for ii in range(num_atoms_list_CAs):\n",
    "    for jj in range(ii+1,num_atoms_list_CAs):\n",
    "        #dist_ii_jj = m3t.distances(system_pdbfixer,ii,jj)\n",
    "        vect = initial_positions[ii]-initial_positions[jj]\n",
    "        dist_ii_jj = np.sqrt(vect[0]**2+vect[1]**2+vect[2]**2)\n",
    "        harmonic_bond_force.addBond(int(ii), int(jj), dist_ii_jj, k_cas)"
   ]
  },
  {
   "cell_type": "code",
   "execution_count": null,
   "metadata": {},
   "outputs": [],
   "source": [
    "system.addForce(harmonic_bond_force)"
   ]
  },
  {
   "cell_type": "markdown",
   "metadata": {},
   "source": [
    "### Tirando del extremo con fuerza externa"
   ]
  },
  {
   "cell_type": "code",
   "execution_count": null,
   "metadata": {},
   "outputs": [],
   "source": [
    "#view = m3t.view(system_modeller_minimized)\n",
    "#view"
   ]
  },
  {
   "cell_type": "code",
   "execution_count": null,
   "metadata": {},
   "outputs": [],
   "source": [
    "arrow_init = initial_positions[atom_to_pull]._value*10\n",
    "vect_to_pull = np.array([-5.0, -10.0, 0.0])\n",
    "arrow_end = arrow_init + vect_to_pull\n",
    "#view.shape.add_arrow(arrow_init, arrow_end, [1.0, 0.0, 0.0], 1.0, 'F')"
   ]
  },
  {
   "cell_type": "code",
   "execution_count": null,
   "metadata": {},
   "outputs": [],
   "source": [
    "vect_to_pull = vect_to_pull/np.linalg.norm(vect_to_pull)"
   ]
  },
  {
   "cell_type": "code",
   "execution_count": null,
   "metadata": {},
   "outputs": [],
   "source": [
    "vect_to_pull = 100.0 * vect_to_pull"
   ]
  },
  {
   "cell_type": "code",
   "execution_count": null,
   "metadata": {},
   "outputs": [],
   "source": [
    "pulling_potential = \"-(px*x+py*y+pz*z)\""
   ]
  },
  {
   "cell_type": "code",
   "execution_count": null,
   "metadata": {},
   "outputs": [],
   "source": [
    "pulling_force = mm.CustomExternalForce(pulling_potential)"
   ]
  },
  {
   "cell_type": "code",
   "execution_count": null,
   "metadata": {},
   "outputs": [],
   "source": [
    "pulling_force.addGlobalParameter('px', vect_to_pull[0] * unit.kilocalories_per_mole/unit.angstrom)\n",
    "pulling_force.addGlobalParameter('py', vect_to_pull[1] * unit.kilocalories_per_mole/unit.angstrom)\n",
    "pulling_force.addGlobalParameter('pz', vect_to_pull[2] * unit.kilocalories_per_mole/unit.angstrom)"
   ]
  },
  {
   "cell_type": "code",
   "execution_count": null,
   "metadata": {},
   "outputs": [],
   "source": [
    "pulling_force.addParticle(int(atom_to_pull))"
   ]
  },
  {
   "cell_type": "code",
   "execution_count": null,
   "metadata": {},
   "outputs": [],
   "source": [
    "system.addForce(pulling_force)"
   ]
  },
  {
   "cell_type": "markdown",
   "metadata": {},
   "source": [
    "Otra manera más cómoda de añadir fuerzas es recurrir a la librería `openmmtools`:    \n",
    "https://openmmtools.readthedocs.io/en/latest/gettingstarted.html#forces    \n",
    "https://openmmtools.readthedocs.io/en/latest/forces.html    \n",
    "https://openmmtools.readthedocs.io/en/latest/api/generated/openmmtools.forces.HarmonicRestraintBondForce.html#openmmtools.forces.HarmonicRestraintBondForce    \n",
    "\n",
    "```python\n",
    "from openmmtools.forces import HarmonicRestraintBondForce\n",
    "\n",
    "num_atoms_list_CAs = len(list_CAs_distances_constrained)\n",
    "\n",
    "k_cas = 500.0 * unit.kilocalories_per_mole/unit.angstrom**2\n",
    "\n",
    "for ii in range(num_atoms_list_CAs):\n",
    "    for jj in range(ii+1,num_atoms_list_CAs):\n",
    "        distance_restraint = HarmonicRestraintBondForce (spring_constant=k_cas,\n",
    "                                                         restrained_atom_index1=int(ii),\n",
    "                                                         restrained_atom_index2=int(jj))\n",
    "        system.addForce(distance_restraint)\n",
    "```"
   ]
  },
  {
   "cell_type": "markdown",
   "metadata": {},
   "source": [
    "## Creando la simulación"
   ]
  },
  {
   "cell_type": "code",
   "execution_count": null,
   "metadata": {},
   "outputs": [],
   "source": [
    "kB = unit.BOLTZMANN_CONSTANT_kB * unit.AVOGADRO_CONSTANT_NA\n",
    "temperature = 0*unit.kelvin\n",
    "pressure    = None"
   ]
  },
  {
   "cell_type": "code",
   "execution_count": null,
   "metadata": {},
   "outputs": [],
   "source": [
    "friction   = 500.0/unit.picosecond\n",
    "step_size  = 2.0*unit.femtoseconds\n",
    "integrator = mm.LangevinIntegrator(temperature, friction, step_size)\n",
    "integrator.setConstraintTolerance(0.00001)"
   ]
  },
  {
   "cell_type": "code",
   "execution_count": null,
   "metadata": {},
   "outputs": [],
   "source": [
    "simulation_time = 1000*unit.femtoseconds\n",
    "saving_time = 2*unit.femtoseconds\n",
    "simulation_steps = round(simulation_time/step_size)\n",
    "saving_steps     = round(saving_time/step_size)\n",
    "num_steps_saved  = round(simulation_steps/saving_steps)"
   ]
  },
  {
   "cell_type": "code",
   "execution_count": null,
   "metadata": {},
   "outputs": [],
   "source": [
    "print('Simulation steps:', simulation_steps)\n",
    "print('Saving steps:', saving_steps)\n",
    "print('Saved steps:', num_steps_saved)"
   ]
  },
  {
   "cell_type": "code",
   "execution_count": null,
   "metadata": {},
   "outputs": [],
   "source": [
    "from molmodmt.utils.openmm import check_platforms\n",
    "check_platforms()"
   ]
  },
  {
   "cell_type": "code",
   "execution_count": null,
   "metadata": {},
   "outputs": [],
   "source": [
    "platform = mm.Platform.getPlatformByName('CUDA')\n",
    "properties = {'CudaPrecision': 'mixed'}"
   ]
  },
  {
   "cell_type": "code",
   "execution_count": null,
   "metadata": {},
   "outputs": [],
   "source": [
    "simulation = app.Simulation(topology, system, integrator, platform, properties)"
   ]
  },
  {
   "cell_type": "code",
   "execution_count": null,
   "metadata": {},
   "outputs": [],
   "source": [
    "simulation.context.setPositions(initial_positions)\n",
    "simulation.context.setVelocitiesToTemperature(0*unit.kelvin)"
   ]
  },
  {
   "cell_type": "code",
   "execution_count": null,
   "metadata": {},
   "outputs": [],
   "source": [
    "simulation.minimizeEnergy()"
   ]
  },
  {
   "cell_type": "code",
   "execution_count": null,
   "metadata": {},
   "outputs": [],
   "source": [
    "simulation.reporters.append(app.DCDReporter('trajectory1.dcd', saving_steps))\n",
    "simulation.reporters.append(app.StateDataReporter(stdout, saving_steps, step=True,\n",
    "                            progress=True, remainingTime=True,\n",
    "                            speed=True, totalSteps=simulation_steps, separator='\\t'))"
   ]
  },
  {
   "cell_type": "code",
   "execution_count": null,
   "metadata": {},
   "outputs": [],
   "source": [
    "simulation.step(simulation_steps)"
   ]
  },
  {
   "cell_type": "code",
   "execution_count": null,
   "metadata": {},
   "outputs": [],
   "source": [
    "traj_md = m3t.load('trajectory1.dcd','mdtraj',topology=topology)"
   ]
  },
  {
   "cell_type": "code",
   "execution_count": null,
   "metadata": {},
   "outputs": [],
   "source": [
    "m3t.view(traj_md)"
   ]
  },
  {
   "cell_type": "markdown",
   "metadata": {},
   "source": [
    "Esto podía haber sido hecho de manera más económica haciendo uso de por ejemplo https://openmmtools.readthedocs.io/en/latest/forces.html\n",
    "o https://openmmtools.readthedocs.io/en/latest/_modules/openmmtools/forcefactories.html"
   ]
  },
  {
   "cell_type": "markdown",
   "metadata": {},
   "source": [
    "https://github.com/uibcdf/Academia/blob/master/Din%C3%A1mica_Molecular/Pozo_Harm%C3%B3nico.ipynb\n",
    "https://github.com/uibcdf/Academia/blob/master/Din%C3%A1mica_Molecular/MetEncefalina.ipynb\n",
    "https://openmmtools.readthedocs.io/en/latest/_modules/openmmtools/forcefactories.html\n",
    "http://www.maccallumlab.org/news/2015/1/23/testing\n",
    "http://mdtraj.org/latest/examples/openmm.html\n",
    "http://mdtraj.org/development/api/reporters.html\n",
    "https://openmmtools.readthedocs.io/en/latest/gettingstarted.html"
   ]
  },
  {
   "cell_type": "code",
   "execution_count": null,
   "metadata": {},
   "outputs": [],
   "source": []
  }
 ],
 "metadata": {
  "kernelspec": {
   "display_name": "Python 3",
   "language": "python",
   "name": "python3"
  },
  "language_info": {
   "codemirror_mode": {
    "name": "ipython",
    "version": 3
   },
   "file_extension": ".py",
   "mimetype": "text/x-python",
   "name": "python",
   "nbconvert_exporter": "python",
   "pygments_lexer": "ipython3",
   "version": "3.7.3"
  }
 },
 "nbformat": 4,
 "nbformat_minor": 2
}
