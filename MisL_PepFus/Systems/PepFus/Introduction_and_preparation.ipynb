{
 "cells": [
  {
   "cell_type": "code",
   "execution_count": 1,
   "metadata": {},
   "outputs": [],
   "source": [
    "%load_ext autoreload\n",
    "%autoreload 2"
   ]
  },
  {
   "cell_type": "code",
   "execution_count": 2,
   "metadata": {},
   "outputs": [
    {
     "data": {
      "application/vnd.jupyter.widget-view+json": {
       "model_id": "5db5268187464c6a9196634620210d04",
       "version_major": 2,
       "version_minor": 0
      },
      "text/plain": [
       "_ColormakerRegistry()"
      ]
     },
     "metadata": {},
     "output_type": "display_data"
    }
   ],
   "source": [
    "import molsysmt as msm\n",
    "import nglview as nv\n",
    "import numpy as np"
   ]
  },
  {
   "cell_type": "markdown",
   "metadata": {},
   "source": [
    "# System introduction and preparation\n",
    "\n",
    "The molecular system is a fusogenic peptide made by the union of three segments:\n",
    "\n",
    "- (P) Fusogenic EAAAAAEAAAAAEAAAAAEAAAAA [34,36]\n",
    "- (T) Flag: DYKDDDDK [34]\n",
    "- (X) Bax BH3: STKKLSECLKRIGDELDSNM [25]\n",
    "- (S) OmpT protease cleavagesite: KRPGGGGGKRGGGGGPKR [34]\n",
    "\n",
    "It was modeled by Liliana as a region integrated in MisL-blabla. The whole modeled structure can be found in XXX.\n",
    "\n",
    "Lets load first lets see the structure of this peptide as it comes from the model:"
   ]
  },
  {
   "cell_type": "code",
   "execution_count": 3,
   "metadata": {},
   "outputs": [],
   "source": [
    "molsys = msm.convert('PepFus.pdb')"
   ]
  },
  {
   "cell_type": "code",
   "execution_count": 4,
   "metadata": {},
   "outputs": [
    {
     "data": {
      "text/html": [
       "<style  type=\"text/css\" >\n",
       "</style><table id=\"T_955d83f2_9678_11ea_8561_77bc2f1cc914\" ><thead>    <tr>        <th class=\"col_heading level0 col0\" >form</th>        <th class=\"col_heading level0 col1\" >n atoms</th>        <th class=\"col_heading level0 col2\" >n groups</th>        <th class=\"col_heading level0 col3\" >n components</th>        <th class=\"col_heading level0 col4\" >n chains</th>        <th class=\"col_heading level0 col5\" >n molecules</th>        <th class=\"col_heading level0 col6\" >n entities</th>        <th class=\"col_heading level0 col7\" >n frames</th>    </tr></thead><tbody>\n",
       "                <tr>\n",
       "                                <td id=\"T_955d83f2_9678_11ea_8561_77bc2f1cc914row0_col0\" class=\"data row0 col0\" >molsysmt.MolSys</td>\n",
       "                        <td id=\"T_955d83f2_9678_11ea_8561_77bc2f1cc914row0_col1\" class=\"data row0 col1\" >1108</td>\n",
       "                        <td id=\"T_955d83f2_9678_11ea_8561_77bc2f1cc914row0_col2\" class=\"data row0 col2\" >81</td>\n",
       "                        <td id=\"T_955d83f2_9678_11ea_8561_77bc2f1cc914row0_col3\" class=\"data row0 col3\" >1</td>\n",
       "                        <td id=\"T_955d83f2_9678_11ea_8561_77bc2f1cc914row0_col4\" class=\"data row0 col4\" >1</td>\n",
       "                        <td id=\"T_955d83f2_9678_11ea_8561_77bc2f1cc914row0_col5\" class=\"data row0 col5\" >1</td>\n",
       "                        <td id=\"T_955d83f2_9678_11ea_8561_77bc2f1cc914row0_col6\" class=\"data row0 col6\" >1</td>\n",
       "                        <td id=\"T_955d83f2_9678_11ea_8561_77bc2f1cc914row0_col7\" class=\"data row0 col7\" >1</td>\n",
       "            </tr>\n",
       "    </tbody></table>"
      ],
      "text/plain": [
       "<pandas.io.formats.style.Styler at 0x7f66d008d810>"
      ]
     },
     "execution_count": 4,
     "metadata": {},
     "output_type": "execute_result"
    }
   ],
   "source": [
    "msm.info(molsys)"
   ]
  },
  {
   "cell_type": "code",
   "execution_count": 5,
   "metadata": {},
   "outputs": [],
   "source": [
    "molsys_seq = msm.convert(molsys, to_form='aminoacids1:seq')"
   ]
  },
  {
   "cell_type": "code",
   "execution_count": 6,
   "metadata": {},
   "outputs": [
    {
     "name": "stdout",
     "output_type": "stream",
     "text": [
      "aminoacids1:ARCEAAAAAEAAAAAEAAAAAEAAAAAARDYKDDDDKARSTKKLSECLKRIGDELDSNMARKRPGGGGGKRGGGGGPKRAS\n"
     ]
    }
   ],
   "source": [
    "print(molsys_seq)"
   ]
  },
  {
   "cell_type": "code",
   "execution_count": 7,
   "metadata": {},
   "outputs": [
    {
     "data": {
      "application/vnd.jupyter.widget-view+json": {
       "model_id": "0762e800ada847168998d39491d1034f",
       "version_major": 2,
       "version_minor": 0
      },
      "text/plain": [
       "NGLWidget()"
      ]
     },
     "metadata": {},
     "output_type": "display_data"
    }
   ],
   "source": [
    "view = nv.show_molsysmt(molsys)\n",
    "view"
   ]
  },
  {
   "cell_type": "code",
   "execution_count": 8,
   "metadata": {},
   "outputs": [],
   "source": [
    "molsys_P_seq = \"aminoacids1:EAAAAAEAAAAAEAAAAAEAAAAAA\"\n",
    "molsys_T_seq = \"aminoacids1:DYKDDDDK\"\n",
    "molsys_X_seq = \"aminoacids1:STKKLSECLKRIGDELDSNM\"\n",
    "molsys_S_seq = \"aminoacids1:KRPGGGGGKRGGGGGPKR\""
   ]
  },
  {
   "cell_type": "code",
   "execution_count": 9,
   "metadata": {},
   "outputs": [
    {
     "name": "stdout",
     "output_type": "stream",
     "text": [
      "\u001b[1;34;48mA\u001b[m\u001b[1;34;48mR\u001b[m\u001b[1;34;48mC\u001b[mEAAAAAEAAAAAEAAAAAEAAAAAA\u001b[1;34;48mR\u001b[m\u001b[1;34;48mD\u001b[m\u001b[1;34;48mY\u001b[m\u001b[1;34;48mK\u001b[m\u001b[1;34;48mD\u001b[m\u001b[1;34;48mD\u001b[m\u001b[1;34;48mD\u001b[m\u001b[1;34;48mD\u001b[m\u001b[1;34;48mK\u001b[m\u001b[1;34;48mA\u001b[m\u001b[1;34;48mR\u001b[m\u001b[1;34;48mS\u001b[m\u001b[1;34;48mT\u001b[m\u001b[1;34;48mK\u001b[m\u001b[1;34;48mK\u001b[m\u001b[1;34;48mL\u001b[m\u001b[1;34;48mS\u001b[m\u001b[1;34;48mE\u001b[m\u001b[1;34;48mC\u001b[m\u001b[1;34;48mL\u001b[m\u001b[1;34;48mK\u001b[m\u001b[1;34;48mR\u001b[m\u001b[1;34;48mI\u001b[m\u001b[1;34;48mG\u001b[m\u001b[1;34;48mD\u001b[m\u001b[1;34;48mE\u001b[m\u001b[1;34;48mL\u001b[m\u001b[1;34;48mD\u001b[m\u001b[1;34;48mS\u001b[m\u001b[1;34;48mN\u001b[m\u001b[1;34;48mM\u001b[m\u001b[1;34;48mA\u001b[m\u001b[1;34;48mR\u001b[m\u001b[1;34;48mK\u001b[m\u001b[1;34;48mR\u001b[m\u001b[1;34;48mP\u001b[m\u001b[1;34;48mG\u001b[m\u001b[1;34;48mG\u001b[m\u001b[1;34;48mG\u001b[m\u001b[1;34;48mG\u001b[m\u001b[1;34;48mG\u001b[m\u001b[1;34;48mK\u001b[m\u001b[1;34;48mR\u001b[m\u001b[1;34;48mG\u001b[m\u001b[1;34;48mG\u001b[m\u001b[1;34;48mG\u001b[m\u001b[1;34;48mG\u001b[m\u001b[1;34;48mG\u001b[m\u001b[1;34;48mP\u001b[m\u001b[1;34;48mK\u001b[m\u001b[1;34;48mR\u001b[m\u001b[1;34;48mA\u001b[m\u001b[1;34;48mS\u001b[m\n",
      "\n",
      "---EAAAAAEAAAAAEAAAAAEAAAAAA-----------------------------------------------------\n"
     ]
    }
   ],
   "source": [
    "msm.sequence_alignment(molsys_seq, molsys_P_seq, prettyprint=True)"
   ]
  },
  {
   "cell_type": "code",
   "execution_count": 13,
   "metadata": {},
   "outputs": [],
   "source": [
    "identity, intersection_1, intersection_2 = msm.sequence_identity(molsys_seq, molsys_P_seq, target_intersection_set=\"group\")\n",
    "groups_P_in_molsys = intersection_1"
   ]
  },
  {
   "cell_type": "code",
   "execution_count": null,
   "metadata": {},
   "outputs": [],
   "source": [
    "msm.sequence_alignment(molsys_seq, molsys_T_seq, prettyprint=True)"
   ]
  },
  {
   "cell_type": "code",
   "execution_count": null,
   "metadata": {},
   "outputs": [],
   "source": [
    "msm.sequence_alignment(molsys_seq, molsys_X_seq, prettyprint=True)"
   ]
  },
  {
   "cell_type": "code",
   "execution_count": null,
   "metadata": {},
   "outputs": [],
   "source": [
    "msm.sequence_alignment(molsys_seq, molsys_S_seq, prettyprint=True)"
   ]
  },
  {
   "cell_type": "code",
   "execution_count": null,
   "metadata": {},
   "outputs": [],
   "source": []
  },
  {
   "cell_type": "code",
   "execution_count": null,
   "metadata": {},
   "outputs": [],
   "source": []
  }
 ],
 "metadata": {
  "kernelspec": {
   "display_name": "Python 3",
   "language": "python",
   "name": "python3"
  },
  "language_info": {
   "codemirror_mode": {
    "name": "ipython",
    "version": 3
   },
   "file_extension": ".py",
   "mimetype": "text/x-python",
   "name": "python",
   "nbconvert_exporter": "python",
   "pygments_lexer": "ipython3",
   "version": "3.7.7"
  }
 },
 "nbformat": 4,
 "nbformat_minor": 4
}
