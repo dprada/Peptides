{
 "cells": [
  {
   "cell_type": "code",
   "execution_count": 1,
   "metadata": {},
   "outputs": [],
   "source": [
    "import simtk.openmm.app as app\n",
    "import simtk.openmm as mm\n",
    "import simtk.unit as unit\n",
    "from pdbfixer import PDBFixer"
   ]
  },
  {
   "cell_type": "markdown",
   "metadata": {},
   "source": [
    "**Cargar el archivo PDB del disco y agregar residuos y átomos restantes**:"
   ]
  },
  {
   "cell_type": "code",
   "execution_count": 2,
   "metadata": {},
   "outputs": [],
   "source": [
    "pdb = PDBFixer(\"BAK_model1.pdb\")"
   ]
  },
  {
   "cell_type": "markdown",
   "metadata": {},
   "source": [
    "**Agregar residuos, átomos e hidrógenos restantes**:"
   ]
  },
  {
   "cell_type": "code",
   "execution_count": 3,
   "metadata": {},
   "outputs": [],
   "source": [
    "pdb.findMissingResidues()\n",
    "\n",
    "pdb.findMissingAtoms()\n",
    "pdb.addMissingAtoms()\n",
    "\n",
    "pdb.addMissingHydrogens(7.0)\n",
    "\n",
    "app.PDBFile.writeFile(pdb.topology, pdb.positions, open(\"BAK_model1_all.pdb\", \"w\"))"
   ]
  }
 ],
 "metadata": {
  "kernelspec": {
   "display_name": "Python 3",
   "language": "python",
   "name": "python3"
  },
  "language_info": {
   "codemirror_mode": {
    "name": "ipython",
    "version": 3
   },
   "file_extension": ".py",
   "mimetype": "text/x-python",
   "name": "python",
   "nbconvert_exporter": "python",
   "pygments_lexer": "ipython3",
   "version": "3.7.7"
  }
 },
 "nbformat": 4,
 "nbformat_minor": 4
}
