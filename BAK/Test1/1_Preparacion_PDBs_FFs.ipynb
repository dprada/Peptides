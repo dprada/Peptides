{
 "cells": [
  {
   "cell_type": "code",
   "execution_count": 1,
   "metadata": {},
   "outputs": [
    {
     "data": {
      "application/vnd.jupyter.widget-view+json": {
       "model_id": "9b7674ea77524659a2f44ddd36e4445a",
       "version_major": 2,
       "version_minor": 0
      },
      "text/plain": [
       "_ColormakerRegistry()"
      ]
     },
     "metadata": {},
     "output_type": "display_data"
    }
   ],
   "source": [
    "import simtk.openmm.app as app\n",
    "import simtk.openmm as mm\n",
    "import simtk.unit as unit\n",
    "import mdtraj as md\n",
    "import matplotlib.pyplot as plt\n",
    "import nglview as nv"
   ]
  },
  {
   "cell_type": "markdown",
   "metadata": {},
   "source": [
    "## Cargar el archivo PDB original\n",
    "\n",
    "El PDB original suponemos que fue minimizado con forcefield Charmm XX viejo"
   ]
  },
  {
   "cell_type": "code",
   "execution_count": 2,
   "metadata": {},
   "outputs": [],
   "source": [
    "pdb =app.PDBFile(\"BAK_model1_all.pdb\")"
   ]
  },
  {
   "cell_type": "markdown",
   "metadata": {},
   "source": [
    "## Creamos los pdbs de los sistemas a comparar"
   ]
  },
  {
   "cell_type": "code",
   "execution_count": 3,
   "metadata": {},
   "outputs": [],
   "source": [
    "experiments={\n",
    "    'Amber14_vacuum': [[\"amber14-all.xml\"], 'vacuum'],\n",
    "    'Amber14_implicit': [[\"amber14-all.xml\"], 'implicit'],\n",
    "    'Amber14_explicit': [[\"amber14-all.xml\", \"amber14/tip3p.xml\"], 'explicit'],\n",
    "    'Charmm36_vacuum': [[\"charmm36.xml\"], 'vacuum'],\n",
    "    'Charmm36_implicit': [[\"charmm36.xml\"], 'implicit'],\n",
    "    'Charmm36_explicit': [[\"charmm36.xml\",\"charmm36/water.xml\"], 'explicit'],\n",
    "}"
   ]
  },
  {
   "cell_type": "code",
   "execution_count": 4,
   "metadata": {},
   "outputs": [],
   "source": [
    "vacuum_parameters={\n",
    "    'nonbondedMethod': app.NoCutoff,\n",
    "    'constraints': app.HBonds\n",
    "}\n",
    "\n",
    "implicit_parameters={\n",
    "    'nonbondedMethod': app.NoCutoff,\n",
    "    'constraints': app.HBonds,\n",
    "    'implicitSolvent': app.OBC2\n",
    "}\n",
    "\n",
    "explicit_parameters={\n",
    "    'nonbondedMethod': app.PME,\n",
    "    'nonbondedCutoff': 1*unit.nanometer,\n",
    "    'constraints': app.HBonds\n",
    "}"
   ]
  },
  {
   "cell_type": "code",
   "execution_count": 5,
   "metadata": {},
   "outputs": [],
   "source": [
    "verbose = True"
   ]
  },
  {
   "cell_type": "code",
   "execution_count": 6,
   "metadata": {},
   "outputs": [
    {
     "name": "stdout",
     "output_type": "stream",
     "text": [
      "Doing experiment: Amber14_vacuum\n",
      "9145.484760688047 kJ/mol\n",
      "Minimizing...\n",
      "-6131.222027824632 kJ/mol\n",
      "... Done\n",
      " \n",
      "Doing experiment: Amber14_implicit\n",
      "9145.484760688047 kJ/mol\n",
      "Minimizing...\n",
      "-6175.91228761893 kJ/mol\n",
      "... Done\n",
      " \n",
      "Doing experiment: Amber14_explicit\n",
      "-182642.73067152264 kJ/mol\n",
      "Minimizing...\n",
      "-458840.58221635816 kJ/mol\n",
      "... Done\n",
      " \n",
      "Doing experiment: Charmm36_vacuum\n",
      "7386.410383416282 kJ/mol\n",
      "Minimizing...\n",
      "-7316.532659292166 kJ/mol\n",
      "... Done\n",
      " \n",
      "Doing experiment: Charmm36_implicit\n",
      "7386.410383416283 kJ/mol\n",
      "Minimizing...\n",
      "-7270.913488211908 kJ/mol\n",
      "... Done\n",
      " \n",
      "Doing experiment: Charmm36_explicit\n",
      "-141799.59449282679 kJ/mol\n",
      "Minimizing...\n",
      "-479149.4558802692 kJ/mol\n",
      "... Done\n",
      " \n"
     ]
    }
   ],
   "source": [
    "for experiment, conditions in experiments.items():\n",
    "    \n",
    "    if verbose:\n",
    "        print(\"Doing experiment: {}\".format(experiment))\n",
    "    \n",
    "    list_forcefield_files = conditions[0]\n",
    "    solvent = conditions[1]\n",
    "    \n",
    "    topology = pdb.topology\n",
    "    positions = pdb.positions\n",
    "    \n",
    "    # Forcefield\n",
    "    \n",
    "    forcefield =app.ForceField(*list_forcefield_files)\n",
    "    \n",
    "    # Adding solvent if experiment is explicit\n",
    "    \n",
    "    if solvent=='explicit':\n",
    "        \n",
    "        modeller = app.Modeller(pdb.topology, pdb.positions)\n",
    "        modeller.addSolvent(forcefield, padding=1.4*unit.nanometers)\n",
    "        \n",
    "        topology = modeller.topology\n",
    "        positions = modeller.positions\n",
    "    \n",
    "    # Creating system\n",
    "    \n",
    "    creation_parameters = None\n",
    "    \n",
    "    if solvent=='vacuum':\n",
    "        creation_parameters = vacuum_parameters\n",
    "    elif solvent=='implicit':\n",
    "        creation_parameters = implicit_parameters\n",
    "    elif solvent=='explicit':\n",
    "        creation_parameters = explicit_parameters\n",
    "    \n",
    "    system = forcefield.createSystem(topology, **creation_parameters)\n",
    "    \n",
    "    # Integrator\n",
    "    \n",
    "    integrator = mm.LangevinIntegrator(300*unit.kelvin, 1.0/unit.picoseconds, 2.0*unit.femtoseconds)\n",
    "    integrator.setConstraintTolerance(0.00001)\n",
    "    \n",
    "    # Platform\n",
    "    \n",
    "    platform = mm.Platform.getPlatformByName('CPU')\n",
    "    #properties = {'CudaPrecision': 'mixed'}\n",
    "    properties = {}\n",
    "    \n",
    "    # Simulation\n",
    "    \n",
    "    simulation = app.Simulation(topology, system, integrator, platform, properties)\n",
    "    simulation.context.setPositions(positions)\n",
    "    \n",
    "    # Minimization\n",
    "    \n",
    "    if verbose:\n",
    "        Edo_PreMin = simulation.context.getState(getEnergy = True)\n",
    "        E = Edo_PreMin.getPotentialEnergy()\n",
    "        print(E)\n",
    "    \n",
    "    if verbose:\n",
    "        print('Minimizing...')\n",
    "    \n",
    "    simulation.minimizeEnergy(tolerance=0.1*unit.kilojoule/unit.mole, maxIterations=500)\n",
    "    \n",
    "    Edo_PosMin = simulation.context.getState(getEnergy = True, getPositions = True)\n",
    "    \n",
    "    if verbose:\n",
    "        E = Edo_PosMin.getPotentialEnergy()\n",
    "        print(E)\n",
    "    \n",
    "    positions_min = Edo_PosMin.getPositions()\n",
    "    \n",
    "    # Saving the minimized system in new pdb file\n",
    "    \n",
    "    pdbfile_path = 'PDBs_experiments/'+experiment+'.pdb'\n",
    "    app.PDBFile.writeFile(topology, positions_min, open(pdbfile_path, 'w'))\n",
    "    \n",
    "    if verbose:\n",
    "        print('... Done')\n",
    "        print(' ')"
   ]
  },
  {
   "cell_type": "code",
   "execution_count": null,
   "metadata": {},
   "outputs": [],
   "source": []
  }
 ],
 "metadata": {
  "kernelspec": {
   "display_name": "Python 3",
   "language": "python",
   "name": "python3"
  },
  "language_info": {
   "codemirror_mode": {
    "name": "ipython",
    "version": 3
   },
   "file_extension": ".py",
   "mimetype": "text/x-python",
   "name": "python",
   "nbconvert_exporter": "python",
   "pygments_lexer": "ipython3",
   "version": "3.7.7"
  }
 },
 "nbformat": 4,
 "nbformat_minor": 4
}
