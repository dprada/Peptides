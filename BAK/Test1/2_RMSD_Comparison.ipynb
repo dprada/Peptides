{
 "cells": [
  {
   "cell_type": "code",
   "execution_count": 1,
   "metadata": {},
   "outputs": [],
   "source": [
    "import os\n",
    "import mdtraj as md"
   ]
  },
  {
   "cell_type": "markdown",
   "metadata": {},
   "source": [
    "# RMSD Comparison"
   ]
  },
  {
   "cell_type": "code",
   "execution_count": 2,
   "metadata": {},
   "outputs": [],
   "source": [
    "PDBs_experiments_dir_path = './PDBs_experiments'"
   ]
  },
  {
   "cell_type": "code",
   "execution_count": 3,
   "metadata": {},
   "outputs": [],
   "source": [
    "PDBs_experiments = os.listdir(PDBs_experiments_dir_path)"
   ]
  },
  {
   "cell_type": "code",
   "execution_count": 4,
   "metadata": {},
   "outputs": [],
   "source": [
    "md_objects_experiments = {}\n",
    "\n",
    "for PDB_experiment in PDBs_experiments:\n",
    "    name_experiment = PDB_experiment.split('.')[0]\n",
    "    md_objects_experiments[name_experiment]=md.load(PDBs_experiments_dir_path+'/'+PDB_experiment)"
   ]
  },
  {
   "cell_type": "code",
   "execution_count": 5,
   "metadata": {},
   "outputs": [],
   "source": [
    "names_experiments = list(md_objects_experiments.keys())"
   ]
  },
  {
   "cell_type": "markdown",
   "metadata": {},
   "source": [
    "## RMSD Comparison heavy atoms"
   ]
  },
  {
   "cell_type": "code",
   "execution_count": 6,
   "metadata": {},
   "outputs": [],
   "source": [
    "verbose = True"
   ]
  },
  {
   "cell_type": "code",
   "execution_count": 7,
   "metadata": {},
   "outputs": [
    {
     "name": "stdout",
     "output_type": "stream",
     "text": [
      "Amber14_vacuum vs. Amber14_explicit:\n",
      "          ... least rmsd is [0.16694485]\n",
      "Amber14_vacuum vs. Amber14_implicit:\n",
      "          ... least rmsd is [0.02147783]\n",
      "Amber14_vacuum vs. Charmm36_vacuum:\n",
      "          ... least rmsd is [0.09028158]\n",
      "Amber14_explicit vs. Amber14_vacuum:\n",
      "          ... least rmsd is [0.16694485]\n",
      "Amber14_explicit vs. Amber14_implicit:\n",
      "          ... least rmsd is [0.17122804]\n",
      "Amber14_explicit vs. Charmm36_vacuum:\n",
      "          ... least rmsd is [0.18094791]\n",
      "Amber14_implicit vs. Amber14_vacuum:\n",
      "          ... least rmsd is [0.02147783]\n",
      "Amber14_implicit vs. Amber14_explicit:\n",
      "          ... least rmsd is [0.17122804]\n",
      "Amber14_implicit vs. Charmm36_vacuum:\n",
      "          ... least rmsd is [0.09683786]\n",
      "Charmm36_vacuum vs. Amber14_vacuum:\n",
      "          ... least rmsd is [0.09028158]\n",
      "Charmm36_vacuum vs. Amber14_explicit:\n",
      "          ... least rmsd is [0.18094791]\n",
      "Charmm36_vacuum vs. Amber14_implicit:\n",
      "          ... least rmsd is [0.09683786]\n"
     ]
    }
   ],
   "source": [
    "for experiment1 in names_experiments:\n",
    "    for experiment2 in names_experiments:\n",
    "        if experiment1!=experiment2:\n",
    "            \n",
    "            if verbose:\n",
    "                print('{} vs. {}:'.format(experiment1, experiment2))\n",
    "            \n",
    "            md_object1 = md_objects_experiments[experiment1] \n",
    "            list_selection_1 = md_object1.topology.select(\"protein and type!=H\")\n",
    "            \n",
    "            md_object2 = md_objects_experiments[experiment2] \n",
    "            list_selection_2 = md_object2.topology.select(\"protein and type!=H\")    \n",
    "            \n",
    "            least_rmsd = md.rmsd(md_object1, md_object2, atom_indices = list_selection_1,\n",
    "                                   ref_atom_indices = list_selection_2)\n",
    "            \n",
    "            if verbose:\n",
    "                print('          ... least rmsd is {}'.format(least_rmsd))"
   ]
  },
  {
   "cell_type": "code",
   "execution_count": null,
   "metadata": {},
   "outputs": [],
   "source": []
  }
 ],
 "metadata": {
  "kernelspec": {
   "display_name": "Python 3",
   "language": "python",
   "name": "python3"
  },
  "language_info": {
   "codemirror_mode": {
    "name": "ipython",
    "version": 3
   },
   "file_extension": ".py",
   "mimetype": "text/x-python",
   "name": "python",
   "nbconvert_exporter": "python",
   "pygments_lexer": "ipython3",
   "version": "3.7.7"
  }
 },
 "nbformat": 4,
 "nbformat_minor": 4
}
