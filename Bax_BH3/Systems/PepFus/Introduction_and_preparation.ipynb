{
 "cells": [
  {
   "cell_type": "code",
   "execution_count": 1,
   "metadata": {},
   "outputs": [],
   "source": [
    "%load_ext autoreload\n",
    "%autoreload 2"
   ]
  },
  {
   "cell_type": "code",
   "execution_count": 2,
   "metadata": {},
   "outputs": [
    {
     "data": {
      "application/vnd.jupyter.widget-view+json": {
       "model_id": "f3dba7a42b784b90b3781e26774f72b6",
       "version_major": 2,
       "version_minor": 0
      },
      "text/plain": [
       "_ColormakerRegistry()"
      ]
     },
     "metadata": {},
     "output_type": "display_data"
    }
   ],
   "source": [
    "import molsysmt as msm\n",
    "import nglview as nv\n",
    "import numpy as np"
   ]
  },
  {
   "cell_type": "markdown",
   "metadata": {},
   "source": [
    "# SXTP System introduction and preparation\n",
    "\n",
    "The molecular system is a fusogenic peptide made by the union of four segments:\n",
    "\n",
    "- (S) OmpT protease cleavagesite: KRPGGGGGKRGGGGGPKR [34]\n",
    "- (X) Bax BH3: STKKLSECLKRIGDELDSNM [25]\n",
    "- (T) Flag: DYKDDDDK [34]\n",
    "- (P) Fusogenic EAAAAAEAAAAAEAAAAAEAAAAA [34,36]\n",
    "\n",
    "\n",
    "It was modeled by Liliana as a region integrated in MisL-SXTP. The whole modeled structure can be found in XXX.\n",
    "\n",
    "Lets have a look to this peptide as it comes from the model:"
   ]
  },
  {
   "cell_type": "code",
   "execution_count": 3,
   "metadata": {},
   "outputs": [],
   "source": [
    "SXTP = msm.convert('PepFus.pdb')"
   ]
  },
  {
   "cell_type": "code",
   "execution_count": 4,
   "metadata": {},
   "outputs": [
    {
     "data": {
      "text/html": [
       "<style  type=\"text/css\" >\n",
       "</style><table id=\"T_d47af756_9987_11ea_b788_bbd1fde99c62\" ><thead>    <tr>        <th class=\"col_heading level0 col0\" >form</th>        <th class=\"col_heading level0 col1\" >n atoms</th>        <th class=\"col_heading level0 col2\" >n groups</th>        <th class=\"col_heading level0 col3\" >n components</th>        <th class=\"col_heading level0 col4\" >n chains</th>        <th class=\"col_heading level0 col5\" >n molecules</th>        <th class=\"col_heading level0 col6\" >n entities</th>        <th class=\"col_heading level0 col7\" >n frames</th>    </tr></thead><tbody>\n",
       "                <tr>\n",
       "                                <td id=\"T_d47af756_9987_11ea_b788_bbd1fde99c62row0_col0\" class=\"data row0 col0\" >molsysmt.MolSys</td>\n",
       "                        <td id=\"T_d47af756_9987_11ea_b788_bbd1fde99c62row0_col1\" class=\"data row0 col1\" >1108</td>\n",
       "                        <td id=\"T_d47af756_9987_11ea_b788_bbd1fde99c62row0_col2\" class=\"data row0 col2\" >81</td>\n",
       "                        <td id=\"T_d47af756_9987_11ea_b788_bbd1fde99c62row0_col3\" class=\"data row0 col3\" >1</td>\n",
       "                        <td id=\"T_d47af756_9987_11ea_b788_bbd1fde99c62row0_col4\" class=\"data row0 col4\" >1</td>\n",
       "                        <td id=\"T_d47af756_9987_11ea_b788_bbd1fde99c62row0_col5\" class=\"data row0 col5\" >1</td>\n",
       "                        <td id=\"T_d47af756_9987_11ea_b788_bbd1fde99c62row0_col6\" class=\"data row0 col6\" >1</td>\n",
       "                        <td id=\"T_d47af756_9987_11ea_b788_bbd1fde99c62row0_col7\" class=\"data row0 col7\" >1</td>\n",
       "            </tr>\n",
       "    </tbody></table>"
      ],
      "text/plain": [
       "<pandas.io.formats.style.Styler at 0x7f8ab3991550>"
      ]
     },
     "execution_count": 4,
     "metadata": {},
     "output_type": "execute_result"
    }
   ],
   "source": [
    "msm.info(SXTP)"
   ]
  },
  {
   "cell_type": "code",
   "execution_count": 5,
   "metadata": {},
   "outputs": [
    {
     "data": {
      "text/plain": [
       "'aminoacids1:ARCEAAAAAEAAAAAEAAAAAEAAAAAARDYKDDDDKARSTKKLSECLKRIGDELDSNMARKRPGGGGGKRGGGGGPKRAS'"
      ]
     },
     "execution_count": 5,
     "metadata": {},
     "output_type": "execute_result"
    }
   ],
   "source": [
    "msm.convert(SXTP, to_form='aminoacids1:seq')"
   ]
  },
  {
   "cell_type": "code",
   "execution_count": 6,
   "metadata": {},
   "outputs": [
    {
     "data": {
      "application/vnd.jupyter.widget-view+json": {
       "model_id": "250df98dc9624fdb97f9cf636743aea8",
       "version_major": 2,
       "version_minor": 0
      },
      "text/plain": [
       "NGLWidget()"
      ]
     },
     "metadata": {},
     "output_type": "display_data"
    }
   ],
   "source": [
    "view = nv.show_molsysmt(SXTP)\n",
    "view"
   ]
  },
  {
   "cell_type": "markdown",
   "metadata": {},
   "source": [
    "## S fragment"
   ]
  },
  {
   "cell_type": "markdown",
   "metadata": {},
   "source": [
    "The fragments can be identified in the SXTP peptide. Lets first introduce the OmpT protease cleavagesite:"
   ]
  },
  {
   "cell_type": "code",
   "execution_count": 19,
   "metadata": {},
   "outputs": [],
   "source": [
    "S = 'aminoacids1:KRPGGGGGKRGGGGGPKR'"
   ]
  },
  {
   "cell_type": "code",
   "execution_count": 20,
   "metadata": {},
   "outputs": [
    {
     "name": "stdout",
     "output_type": "stream",
     "text": [
      "\u001b[1;34;48mA\u001b[m\u001b[1;34;48mR\u001b[m\u001b[1;34;48mC\u001b[m\u001b[1;34;48mE\u001b[m\u001b[1;34;48mA\u001b[m\u001b[1;34;48mA\u001b[m\u001b[1;34;48mA\u001b[m\u001b[1;34;48mA\u001b[m\u001b[1;34;48mA\u001b[m\u001b[1;34;48mE\u001b[m\u001b[1;34;48mA\u001b[m\u001b[1;34;48mA\u001b[m\u001b[1;34;48mA\u001b[m\u001b[1;34;48mA\u001b[m\u001b[1;34;48mA\u001b[m\u001b[1;34;48mE\u001b[m\u001b[1;34;48mA\u001b[m\u001b[1;34;48mA\u001b[m\u001b[1;34;48mA\u001b[m\u001b[1;34;48mA\u001b[m\u001b[1;34;48mA\u001b[m\u001b[1;34;48mE\u001b[m\u001b[1;34;48mA\u001b[m\u001b[1;34;48mA\u001b[m\u001b[1;34;48mA\u001b[m\u001b[1;34;48mA\u001b[m\u001b[1;34;48mA\u001b[m\u001b[1;34;48mA\u001b[m\u001b[1;34;48mR\u001b[m\u001b[1;34;48mD\u001b[m\u001b[1;34;48mY\u001b[m\u001b[1;34;48mK\u001b[m\u001b[1;34;48mD\u001b[m\u001b[1;34;48mD\u001b[m\u001b[1;34;48mD\u001b[m\u001b[1;34;48mD\u001b[m\u001b[1;34;48mK\u001b[m\u001b[1;34;48mA\u001b[m\u001b[1;34;48mR\u001b[m\u001b[1;34;48mS\u001b[m\u001b[1;34;48mT\u001b[m\u001b[1;34;48mK\u001b[m\u001b[1;34;48mK\u001b[m\u001b[1;34;48mL\u001b[m\u001b[1;34;48mS\u001b[m\u001b[1;34;48mE\u001b[m\u001b[1;34;48mC\u001b[m\u001b[1;34;48mL\u001b[m\u001b[1;34;48mK\u001b[m\u001b[1;34;48mR\u001b[m\u001b[1;34;48mI\u001b[m\u001b[1;34;48mG\u001b[m\u001b[1;34;48mD\u001b[m\u001b[1;34;48mE\u001b[m\u001b[1;34;48mL\u001b[m\u001b[1;34;48mD\u001b[m\u001b[1;34;48mS\u001b[m\u001b[1;34;48mN\u001b[m\u001b[1;34;48mM\u001b[m\u001b[1;34;48mA\u001b[m\u001b[1;34;48mR\u001b[mKRPGGGGGKRGGGGGPKR\u001b[1;34;48mA\u001b[m\u001b[1;34;48mS\u001b[m\n",
      "\n",
      "-------------------------------------------------------------KRPGGGGGKRGGGGGPKR--\n"
     ]
    }
   ],
   "source": [
    "msm.sequence_alignment(SXTP, S, prettyprint=True)"
   ]
  },
  {
   "cell_type": "code",
   "execution_count": 23,
   "metadata": {},
   "outputs": [
    {
     "name": "stdout",
     "output_type": "stream",
     "text": [
      "Group indices of S in SXTP: [61, 62, 63, 64, 65, 66, 67, 68, 69, 70, 71, 72, 73, 74, 75, 76, 77, 78]\n"
     ]
    }
   ],
   "source": [
    "_, group_indices_S_in_SXTP, _ = msm.sequence_identity(SXTP, S, target_intersection_set=\"group\")\n",
    "print('Group indices of S in SXTP:',group_indices_S_in_SXTP)"
   ]
  },
  {
   "cell_type": "markdown",
   "metadata": {},
   "source": [
    "Lets show now the SXTP peptide (cartoon in white) with the S fragment in color black:"
   ]
  },
  {
   "cell_type": "code",
   "execution_count": 24,
   "metadata": {},
   "outputs": [],
   "source": [
    "nv_selection_S = msm.select(SXTP, selection='group.index==@group_indices_S_in_SXTP', to_syntaxis='NGLview')\n",
    "color_S='black'"
   ]
  },
  {
   "cell_type": "code",
   "execution_count": 26,
   "metadata": {},
   "outputs": [
    {
     "data": {
      "application/vnd.jupyter.widget-view+json": {
       "model_id": "00670d79df8e417f85e04681e0da972c",
       "version_major": 2,
       "version_minor": 0
      },
      "text/plain": [
       "NGLWidget()"
      ]
     },
     "metadata": {},
     "output_type": "display_data"
    }
   ],
   "source": [
    "view = nv.show_molsysmt(SXTP)\n",
    "view.clear_representations()\n",
    "view.add_cartoon('all', color='white')\n",
    "view.add_cartoon(selection=nv_selection_S, color=color_S)\n",
    "view"
   ]
  },
  {
   "cell_type": "markdown",
   "metadata": {},
   "source": [
    "## X fragment\n",
    "\n",
    "The fragment Bax BH3:"
   ]
  },
  {
   "cell_type": "code",
   "execution_count": 27,
   "metadata": {},
   "outputs": [],
   "source": [
    "X = \"aminoacids1:STKKLSECLKRIGDELDSNM\""
   ]
  },
  {
   "cell_type": "code",
   "execution_count": 28,
   "metadata": {},
   "outputs": [
    {
     "name": "stdout",
     "output_type": "stream",
     "text": [
      "\u001b[1;34;48mA\u001b[m\u001b[1;34;48mR\u001b[m\u001b[1;34;48mC\u001b[m\u001b[1;34;48mE\u001b[m\u001b[1;34;48mA\u001b[m\u001b[1;34;48mA\u001b[m\u001b[1;34;48mA\u001b[m\u001b[1;34;48mA\u001b[m\u001b[1;34;48mA\u001b[m\u001b[1;34;48mE\u001b[m\u001b[1;34;48mA\u001b[m\u001b[1;34;48mA\u001b[m\u001b[1;34;48mA\u001b[m\u001b[1;34;48mA\u001b[m\u001b[1;34;48mA\u001b[m\u001b[1;34;48mE\u001b[m\u001b[1;34;48mA\u001b[m\u001b[1;34;48mA\u001b[m\u001b[1;34;48mA\u001b[m\u001b[1;34;48mA\u001b[m\u001b[1;34;48mA\u001b[m\u001b[1;34;48mE\u001b[m\u001b[1;34;48mA\u001b[m\u001b[1;34;48mA\u001b[m\u001b[1;34;48mA\u001b[m\u001b[1;34;48mA\u001b[m\u001b[1;34;48mA\u001b[m\u001b[1;34;48mA\u001b[m\u001b[1;34;48mR\u001b[m\u001b[1;34;48mD\u001b[m\u001b[1;34;48mY\u001b[m\u001b[1;34;48mK\u001b[m\u001b[1;34;48mD\u001b[m\u001b[1;34;48mD\u001b[m\u001b[1;34;48mD\u001b[m\u001b[1;34;48mD\u001b[m\u001b[1;34;48mK\u001b[m\u001b[1;34;48mA\u001b[m\u001b[1;34;48mR\u001b[mSTKKLSECLKRIGDELDSNM\u001b[1;34;48mA\u001b[m\u001b[1;34;48mR\u001b[m\u001b[1;34;48mK\u001b[m\u001b[1;34;48mR\u001b[m\u001b[1;34;48mP\u001b[m\u001b[1;34;48mG\u001b[m\u001b[1;34;48mG\u001b[m\u001b[1;34;48mG\u001b[m\u001b[1;34;48mG\u001b[m\u001b[1;34;48mG\u001b[m\u001b[1;34;48mK\u001b[m\u001b[1;34;48mR\u001b[m\u001b[1;34;48mG\u001b[m\u001b[1;34;48mG\u001b[m\u001b[1;34;48mG\u001b[m\u001b[1;34;48mG\u001b[m\u001b[1;34;48mG\u001b[m\u001b[1;34;48mP\u001b[m\u001b[1;34;48mK\u001b[m\u001b[1;34;48mR\u001b[m\u001b[1;34;48mA\u001b[m\u001b[1;34;48mS\u001b[m\n",
      "\n",
      "---------------------------------------STKKLSECLKRIGDELDSNM----------------------\n"
     ]
    }
   ],
   "source": [
    "msm.sequence_alignment(SXTP, X, prettyprint=True)"
   ]
  },
  {
   "cell_type": "code",
   "execution_count": 29,
   "metadata": {},
   "outputs": [
    {
     "name": "stdout",
     "output_type": "stream",
     "text": [
      "Group indices of X in SXTP: [39, 40, 41, 42, 43, 44, 45, 46, 47, 48, 49, 50, 51, 52, 53, 54, 55, 56, 57, 58]\n"
     ]
    }
   ],
   "source": [
    "_, group_indices_X_in_SXTP, _ = msm.sequence_identity(SXTP, X, target_intersection_set=\"group\")\n",
    "print('Group indices of X in SXTP:',group_indices_X_in_SXTP)"
   ]
  },
  {
   "cell_type": "markdown",
   "metadata": {},
   "source": [
    "Lets show now the SXTP peptide (cartoon in white) with the X fragment in color green:"
   ]
  },
  {
   "cell_type": "code",
   "execution_count": 30,
   "metadata": {},
   "outputs": [],
   "source": [
    "nv_selection_X = msm.select(SXTP, selection='group.index==@group_indices_X_in_SXTP', to_syntaxis='NGLview')\n",
    "color_X='green'"
   ]
  },
  {
   "cell_type": "code",
   "execution_count": 31,
   "metadata": {},
   "outputs": [
    {
     "data": {
      "application/vnd.jupyter.widget-view+json": {
       "model_id": "c860e47f19bc4223aa12208323fafadc",
       "version_major": 2,
       "version_minor": 0
      },
      "text/plain": [
       "NGLWidget()"
      ]
     },
     "metadata": {},
     "output_type": "display_data"
    }
   ],
   "source": [
    "view = nv.show_molsysmt(SXTP)\n",
    "view.clear_representations()\n",
    "view.add_cartoon('all', color='white')\n",
    "view.add_cartoon(selection=nv_selection_X, color=color_X)\n",
    "view"
   ]
  },
  {
   "cell_type": "markdown",
   "metadata": {},
   "source": [
    "## T fragment\n",
    "\n",
    "The fragment Flag:"
   ]
  },
  {
   "cell_type": "code",
   "execution_count": 32,
   "metadata": {},
   "outputs": [],
   "source": [
    "T = \"aminoacids1:DYKDDDDK\""
   ]
  },
  {
   "cell_type": "code",
   "execution_count": 33,
   "metadata": {},
   "outputs": [
    {
     "name": "stdout",
     "output_type": "stream",
     "text": [
      "\u001b[1;34;48mA\u001b[m\u001b[1;34;48mR\u001b[m\u001b[1;34;48mC\u001b[m\u001b[1;34;48mE\u001b[m\u001b[1;34;48mA\u001b[m\u001b[1;34;48mA\u001b[m\u001b[1;34;48mA\u001b[m\u001b[1;34;48mA\u001b[m\u001b[1;34;48mA\u001b[m\u001b[1;34;48mE\u001b[m\u001b[1;34;48mA\u001b[m\u001b[1;34;48mA\u001b[m\u001b[1;34;48mA\u001b[m\u001b[1;34;48mA\u001b[m\u001b[1;34;48mA\u001b[m\u001b[1;34;48mE\u001b[m\u001b[1;34;48mA\u001b[m\u001b[1;34;48mA\u001b[m\u001b[1;34;48mA\u001b[m\u001b[1;34;48mA\u001b[m\u001b[1;34;48mA\u001b[m\u001b[1;34;48mE\u001b[m\u001b[1;34;48mA\u001b[m\u001b[1;34;48mA\u001b[m\u001b[1;34;48mA\u001b[m\u001b[1;34;48mA\u001b[m\u001b[1;34;48mA\u001b[m\u001b[1;34;48mA\u001b[m\u001b[1;34;48mR\u001b[mDYKDDDDK\u001b[1;34;48mA\u001b[m\u001b[1;34;48mR\u001b[m\u001b[1;34;48mS\u001b[m\u001b[1;34;48mT\u001b[m\u001b[1;34;48mK\u001b[m\u001b[1;34;48mK\u001b[m\u001b[1;34;48mL\u001b[m\u001b[1;34;48mS\u001b[m\u001b[1;34;48mE\u001b[m\u001b[1;34;48mC\u001b[m\u001b[1;34;48mL\u001b[m\u001b[1;34;48mK\u001b[m\u001b[1;34;48mR\u001b[m\u001b[1;34;48mI\u001b[m\u001b[1;34;48mG\u001b[m\u001b[1;34;48mD\u001b[m\u001b[1;34;48mE\u001b[m\u001b[1;34;48mL\u001b[m\u001b[1;34;48mD\u001b[m\u001b[1;34;48mS\u001b[m\u001b[1;34;48mN\u001b[m\u001b[1;34;48mM\u001b[m\u001b[1;34;48mA\u001b[m\u001b[1;34;48mR\u001b[m\u001b[1;34;48mK\u001b[m\u001b[1;34;48mR\u001b[m\u001b[1;34;48mP\u001b[m\u001b[1;34;48mG\u001b[m\u001b[1;34;48mG\u001b[m\u001b[1;34;48mG\u001b[m\u001b[1;34;48mG\u001b[m\u001b[1;34;48mG\u001b[m\u001b[1;34;48mK\u001b[m\u001b[1;34;48mR\u001b[m\u001b[1;34;48mG\u001b[m\u001b[1;34;48mG\u001b[m\u001b[1;34;48mG\u001b[m\u001b[1;34;48mG\u001b[m\u001b[1;34;48mG\u001b[m\u001b[1;34;48mP\u001b[m\u001b[1;34;48mK\u001b[m\u001b[1;34;48mR\u001b[m\u001b[1;34;48mA\u001b[m\u001b[1;34;48mS\u001b[m\n",
      "\n",
      "-----------------------------DYKDDDDK--------------------------------------------\n"
     ]
    }
   ],
   "source": [
    "msm.sequence_alignment(SXTP, T, prettyprint=True)"
   ]
  },
  {
   "cell_type": "code",
   "execution_count": 34,
   "metadata": {},
   "outputs": [
    {
     "name": "stdout",
     "output_type": "stream",
     "text": [
      "Group indices of T in SXTP: [29, 30, 31, 32, 33, 34, 35, 36]\n"
     ]
    }
   ],
   "source": [
    "_, group_indices_T_in_SXTP, _ = msm.sequence_identity(SXTP, T, target_intersection_set=\"group\")\n",
    "print('Group indices of T in SXTP:',group_indices_T_in_SXTP)"
   ]
  },
  {
   "cell_type": "markdown",
   "metadata": {},
   "source": [
    "Lets show now the SXTP peptide (cartoon in white) with the T fragment in color red:"
   ]
  },
  {
   "cell_type": "code",
   "execution_count": 35,
   "metadata": {},
   "outputs": [],
   "source": [
    "nv_selection_T = msm.select(SXTP, selection='group.index==@group_indices_T_in_SXTP', to_syntaxis='NGLview')\n",
    "color_T='red'"
   ]
  },
  {
   "cell_type": "code",
   "execution_count": 36,
   "metadata": {},
   "outputs": [
    {
     "data": {
      "application/vnd.jupyter.widget-view+json": {
       "model_id": "7ebb391513074cf3a8c1fd43de1aacd2",
       "version_major": 2,
       "version_minor": 0
      },
      "text/plain": [
       "NGLWidget()"
      ]
     },
     "metadata": {},
     "output_type": "display_data"
    }
   ],
   "source": [
    "view = nv.show_molsysmt(SXTP)\n",
    "view.clear_representations()\n",
    "view.add_cartoon('all', color='white')\n",
    "view.add_cartoon(selection=nv_selection_T, color=color_T)\n",
    "view"
   ]
  },
  {
   "cell_type": "markdown",
   "metadata": {},
   "source": [
    "## P fragment\n",
    "\n",
    "The Fusogenic fragment:"
   ]
  },
  {
   "cell_type": "code",
   "execution_count": 37,
   "metadata": {},
   "outputs": [],
   "source": [
    "P = \"aminoacids1:EAAAAAEAAAAAEAAAAAEAAAAAA\""
   ]
  },
  {
   "cell_type": "code",
   "execution_count": 38,
   "metadata": {},
   "outputs": [
    {
     "name": "stdout",
     "output_type": "stream",
     "text": [
      "\u001b[1;34;48mA\u001b[m\u001b[1;34;48mR\u001b[m\u001b[1;34;48mC\u001b[mEAAAAAEAAAAAEAAAAAEAAAAAA\u001b[1;34;48mR\u001b[m\u001b[1;34;48mD\u001b[m\u001b[1;34;48mY\u001b[m\u001b[1;34;48mK\u001b[m\u001b[1;34;48mD\u001b[m\u001b[1;34;48mD\u001b[m\u001b[1;34;48mD\u001b[m\u001b[1;34;48mD\u001b[m\u001b[1;34;48mK\u001b[m\u001b[1;34;48mA\u001b[m\u001b[1;34;48mR\u001b[m\u001b[1;34;48mS\u001b[m\u001b[1;34;48mT\u001b[m\u001b[1;34;48mK\u001b[m\u001b[1;34;48mK\u001b[m\u001b[1;34;48mL\u001b[m\u001b[1;34;48mS\u001b[m\u001b[1;34;48mE\u001b[m\u001b[1;34;48mC\u001b[m\u001b[1;34;48mL\u001b[m\u001b[1;34;48mK\u001b[m\u001b[1;34;48mR\u001b[m\u001b[1;34;48mI\u001b[m\u001b[1;34;48mG\u001b[m\u001b[1;34;48mD\u001b[m\u001b[1;34;48mE\u001b[m\u001b[1;34;48mL\u001b[m\u001b[1;34;48mD\u001b[m\u001b[1;34;48mS\u001b[m\u001b[1;34;48mN\u001b[m\u001b[1;34;48mM\u001b[m\u001b[1;34;48mA\u001b[m\u001b[1;34;48mR\u001b[m\u001b[1;34;48mK\u001b[m\u001b[1;34;48mR\u001b[m\u001b[1;34;48mP\u001b[m\u001b[1;34;48mG\u001b[m\u001b[1;34;48mG\u001b[m\u001b[1;34;48mG\u001b[m\u001b[1;34;48mG\u001b[m\u001b[1;34;48mG\u001b[m\u001b[1;34;48mK\u001b[m\u001b[1;34;48mR\u001b[m\u001b[1;34;48mG\u001b[m\u001b[1;34;48mG\u001b[m\u001b[1;34;48mG\u001b[m\u001b[1;34;48mG\u001b[m\u001b[1;34;48mG\u001b[m\u001b[1;34;48mP\u001b[m\u001b[1;34;48mK\u001b[m\u001b[1;34;48mR\u001b[m\u001b[1;34;48mA\u001b[m\u001b[1;34;48mS\u001b[m\n",
      "\n",
      "---EAAAAAEAAAAAEAAAAAEAAAAAA-----------------------------------------------------\n"
     ]
    }
   ],
   "source": [
    "msm.sequence_alignment(SXTP, P, prettyprint=True)"
   ]
  },
  {
   "cell_type": "code",
   "execution_count": 39,
   "metadata": {},
   "outputs": [
    {
     "name": "stdout",
     "output_type": "stream",
     "text": [
      "Group indices of P in SXTP: [3, 4, 5, 6, 7, 8, 9, 10, 11, 12, 13, 14, 15, 16, 17, 18, 19, 20, 21, 22, 23, 24, 25, 26, 27]\n"
     ]
    }
   ],
   "source": [
    "_, group_indices_P_in_SXTP, _ = msm.sequence_identity(SXTP, P, target_intersection_set=\"group\")\n",
    "print('Group indices of P in SXTP:',group_indices_P_in_SXTP)"
   ]
  },
  {
   "cell_type": "markdown",
   "metadata": {},
   "source": [
    "Lets show now the SXTP peptide (cartoon in white) with the P fragment in color blue:"
   ]
  },
  {
   "cell_type": "code",
   "execution_count": 40,
   "metadata": {},
   "outputs": [],
   "source": [
    "nv_selection_P = msm.select(SXTP, selection='group.index==@group_indices_P_in_SXTP', to_syntaxis='NGLview')\n",
    "color_P='blue'"
   ]
  },
  {
   "cell_type": "code",
   "execution_count": 41,
   "metadata": {},
   "outputs": [
    {
     "data": {
      "application/vnd.jupyter.widget-view+json": {
       "model_id": "a91ea3ea6eac44ea90c15efa03933754",
       "version_major": 2,
       "version_minor": 0
      },
      "text/plain": [
       "NGLWidget()"
      ]
     },
     "metadata": {},
     "output_type": "display_data"
    }
   ],
   "source": [
    "view = nv.show_molsysmt(SXTP)\n",
    "view.clear_representations()\n",
    "view.add_cartoon('all', color='white')\n",
    "view.add_cartoon(selection=nv_selection_P, color=color_P)\n",
    "view"
   ]
  },
  {
   "cell_type": "markdown",
   "metadata": {},
   "source": [
    "# All fragments in SXTP"
   ]
  },
  {
   "cell_type": "code",
   "execution_count": 42,
   "metadata": {},
   "outputs": [
    {
     "data": {
      "application/vnd.jupyter.widget-view+json": {
       "model_id": "c92b5725141b4624ad33be699a9d3773",
       "version_major": 2,
       "version_minor": 0
      },
      "text/plain": [
       "NGLWidget()"
      ]
     },
     "metadata": {},
     "output_type": "display_data"
    }
   ],
   "source": [
    "view = nv.show_molsysmt(SXTP)\n",
    "view.clear_representations()\n",
    "view.add_cartoon('all', color='white')\n",
    "view.add_cartoon(selection=nv_selection_S, color=color_S)\n",
    "view.add_cartoon(selection=nv_selection_X, color=color_X)\n",
    "view.add_cartoon(selection=nv_selection_T, color=color_T)\n",
    "view.add_cartoon(selection=nv_selection_P, color=color_P)\n",
    "view"
   ]
  },
  {
   "cell_type": "code",
   "execution_count": null,
   "metadata": {},
   "outputs": [],
   "source": []
  }
 ],
 "metadata": {
  "kernelspec": {
   "display_name": "Python 3",
   "language": "python",
   "name": "python3"
  },
  "language_info": {
   "codemirror_mode": {
    "name": "ipython",
    "version": 3
   },
   "file_extension": ".py",
   "mimetype": "text/x-python",
   "name": "python",
   "nbconvert_exporter": "python",
   "pygments_lexer": "ipython3",
   "version": "3.7.7"
  }
 },
 "nbformat": 4,
 "nbformat_minor": 4
}
