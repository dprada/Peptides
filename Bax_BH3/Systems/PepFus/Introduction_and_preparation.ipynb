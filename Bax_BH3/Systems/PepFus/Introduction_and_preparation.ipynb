{
 "cells": [
  {
   "cell_type": "code",
   "execution_count": 1,
   "metadata": {},
   "outputs": [],
   "source": [
    "%load_ext autoreload\n",
    "%autoreload 2"
   ]
  },
  {
   "cell_type": "code",
   "execution_count": 2,
   "metadata": {},
   "outputs": [
    {
     "data": {
      "application/vnd.jupyter.widget-view+json": {
       "model_id": "0c164144516344998b8cae262d76df0f",
       "version_major": 2,
       "version_minor": 0
      },
      "text/plain": [
       "_ColormakerRegistry()"
      ]
     },
     "metadata": {},
     "output_type": "display_data"
    }
   ],
   "source": [
    "import molsysmt as msm\n",
    "import nglview as nv\n",
    "import numpy as np"
   ]
  },
  {
   "cell_type": "markdown",
   "metadata": {},
   "source": [
    "# SXTP System introduction and preparation\n",
    "\n",
    "The molecular system is a fusogenic peptide made by the union of four segments:\n",
    "\n",
    "- (S) OmpT protease cleavagesite: KRPGGGGGKRGGGGGPKR [34]\n",
    "- (X) Bax BH3: STKKLSECLKRIGDELDSNM [25]\n",
    "- (T) Flag: DYKDDDDK [34]\n",
    "- (P) Fusogenic EAAAAAEAAAAAEAAAAAEAAAAA [34,36]\n",
    "\n",
    "\n",
    "It was modeled by Liliana as a region integrated in MisL-SXTP. The whole modeled structure can be found in XXX.\n",
    "\n",
    "Lets have a look to this peptide as it comes from the model:"
   ]
  },
  {
   "cell_type": "code",
   "execution_count": 3,
   "metadata": {},
   "outputs": [],
   "source": [
    "SXTP = msm.convert('PepFus.pdb')"
   ]
  },
  {
   "cell_type": "code",
   "execution_count": 4,
   "metadata": {},
   "outputs": [
    {
     "data": {
      "text/html": [
       "<style  type=\"text/css\" >\n",
       "</style><table id=\"T_d6c94776_972d_11ea_829a_51d68c81dcd6\" ><thead>    <tr>        <th class=\"col_heading level0 col0\" >form</th>        <th class=\"col_heading level0 col1\" >n atoms</th>        <th class=\"col_heading level0 col2\" >n groups</th>        <th class=\"col_heading level0 col3\" >n components</th>        <th class=\"col_heading level0 col4\" >n chains</th>        <th class=\"col_heading level0 col5\" >n molecules</th>        <th class=\"col_heading level0 col6\" >n entities</th>        <th class=\"col_heading level0 col7\" >n frames</th>    </tr></thead><tbody>\n",
       "                <tr>\n",
       "                                <td id=\"T_d6c94776_972d_11ea_829a_51d68c81dcd6row0_col0\" class=\"data row0 col0\" >molsysmt.MolSys</td>\n",
       "                        <td id=\"T_d6c94776_972d_11ea_829a_51d68c81dcd6row0_col1\" class=\"data row0 col1\" >1108</td>\n",
       "                        <td id=\"T_d6c94776_972d_11ea_829a_51d68c81dcd6row0_col2\" class=\"data row0 col2\" >81</td>\n",
       "                        <td id=\"T_d6c94776_972d_11ea_829a_51d68c81dcd6row0_col3\" class=\"data row0 col3\" >1</td>\n",
       "                        <td id=\"T_d6c94776_972d_11ea_829a_51d68c81dcd6row0_col4\" class=\"data row0 col4\" >1</td>\n",
       "                        <td id=\"T_d6c94776_972d_11ea_829a_51d68c81dcd6row0_col5\" class=\"data row0 col5\" >1</td>\n",
       "                        <td id=\"T_d6c94776_972d_11ea_829a_51d68c81dcd6row0_col6\" class=\"data row0 col6\" >1</td>\n",
       "                        <td id=\"T_d6c94776_972d_11ea_829a_51d68c81dcd6row0_col7\" class=\"data row0 col7\" >1</td>\n",
       "            </tr>\n",
       "    </tbody></table>"
      ],
      "text/plain": [
       "<pandas.io.formats.style.Styler at 0x7fb890fe7d90>"
      ]
     },
     "execution_count": 4,
     "metadata": {},
     "output_type": "execute_result"
    }
   ],
   "source": [
    "msm.info(SXTP)"
   ]
  },
  {
   "cell_type": "code",
   "execution_count": 5,
   "metadata": {},
   "outputs": [
    {
     "data": {
      "text/plain": [
       "'aminoacids1:ARCEAAAAAEAAAAAEAAAAAEAAAAAARDYKDDDDKARSTKKLSECLKRIGDELDSNMARKRPGGGGGKRGGGGGPKRAS'"
      ]
     },
     "execution_count": 5,
     "metadata": {},
     "output_type": "execute_result"
    }
   ],
   "source": [
    "msm.convert(SXTP, to_form='aminoacids1:seq')"
   ]
  },
  {
   "cell_type": "code",
   "execution_count": 6,
   "metadata": {},
   "outputs": [
    {
     "data": {
      "application/vnd.jupyter.widget-view+json": {
       "model_id": "74fe037fd2a846cabf891d1de3c72b1d",
       "version_major": 2,
       "version_minor": 0
      },
      "text/plain": [
       "NGLWidget()"
      ]
     },
     "metadata": {},
     "output_type": "display_data"
    }
   ],
   "source": [
    "view = nv.show_molsysmt(SXTP)\n",
    "view"
   ]
  },
  {
   "cell_type": "markdown",
   "metadata": {},
   "source": [
    "## S fragment"
   ]
  },
  {
   "cell_type": "markdown",
   "metadata": {},
   "source": [
    "The fragments can be identified in the SXTP peptide. Lets first introduce the OmpT protease cleavagesite:"
   ]
  },
  {
   "cell_type": "code",
   "execution_count": 16,
   "metadata": {},
   "outputs": [],
   "source": [
    "S = \"aminoacids1:KRPGGGGGKRGGGGGPKR\""
   ]
  },
  {
   "cell_type": "code",
   "execution_count": 17,
   "metadata": {},
   "outputs": [
    {
     "name": "stdout",
     "output_type": "stream",
     "text": [
      "\u001b[1;34;48mA\u001b[m\u001b[1;34;48mR\u001b[m\u001b[1;34;48mC\u001b[m\u001b[1;34;48mE\u001b[m\u001b[1;34;48mA\u001b[m\u001b[1;34;48mA\u001b[m\u001b[1;34;48mA\u001b[m\u001b[1;34;48mA\u001b[m\u001b[1;34;48mA\u001b[m\u001b[1;34;48mE\u001b[m\u001b[1;34;48mA\u001b[m\u001b[1;34;48mA\u001b[m\u001b[1;34;48mA\u001b[m\u001b[1;34;48mA\u001b[m\u001b[1;34;48mA\u001b[m\u001b[1;34;48mE\u001b[m\u001b[1;34;48mA\u001b[m\u001b[1;34;48mA\u001b[m\u001b[1;34;48mA\u001b[m\u001b[1;34;48mA\u001b[m\u001b[1;34;48mA\u001b[m\u001b[1;34;48mE\u001b[m\u001b[1;34;48mA\u001b[m\u001b[1;34;48mA\u001b[m\u001b[1;34;48mA\u001b[m\u001b[1;34;48mA\u001b[m\u001b[1;34;48mA\u001b[m\u001b[1;34;48mA\u001b[m\u001b[1;34;48mR\u001b[m\u001b[1;34;48mD\u001b[m\u001b[1;34;48mY\u001b[m\u001b[1;34;48mK\u001b[m\u001b[1;34;48mD\u001b[m\u001b[1;34;48mD\u001b[m\u001b[1;34;48mD\u001b[m\u001b[1;34;48mD\u001b[m\u001b[1;34;48mK\u001b[m\u001b[1;34;48mA\u001b[m\u001b[1;34;48mR\u001b[m\u001b[1;34;48mS\u001b[m\u001b[1;34;48mT\u001b[m\u001b[1;34;48mK\u001b[m\u001b[1;34;48mK\u001b[m\u001b[1;34;48mL\u001b[m\u001b[1;34;48mS\u001b[m\u001b[1;34;48mE\u001b[m\u001b[1;34;48mC\u001b[m\u001b[1;34;48mL\u001b[m\u001b[1;34;48mK\u001b[m\u001b[1;34;48mR\u001b[m\u001b[1;34;48mI\u001b[m\u001b[1;34;48mG\u001b[m\u001b[1;34;48mD\u001b[m\u001b[1;34;48mE\u001b[m\u001b[1;34;48mL\u001b[m\u001b[1;34;48mD\u001b[m\u001b[1;34;48mS\u001b[m\u001b[1;34;48mN\u001b[m\u001b[1;34;48mM\u001b[m\u001b[1;34;48mA\u001b[m\u001b[1;34;48mR\u001b[mKRPGGGGGKRGGGGGPKR\u001b[1;34;48mA\u001b[m\u001b[1;34;48mS\u001b[m\n",
      "\n",
      "-------------------------------------------------------------KRPGGGGGKRGGGGGPKR--\n"
     ]
    }
   ],
   "source": [
    "msm.sequence_alignment(SXTP, S, prettyprint=True)"
   ]
  },
  {
   "cell_type": "code",
   "execution_count": 19,
   "metadata": {},
   "outputs": [
    {
     "name": "stdout",
     "output_type": "stream",
     "text": [
      "Group indices of S in SXTP: [61, 62, 63, 64, 65, 66, 67, 68, 69, 70, 71, 72, 73, 74, 75, 76, 77, 78]\n"
     ]
    }
   ],
   "source": [
    "_, group_indices_S_in_SXTP, _ = msm.sequence_identity(SXTP, S, target_intersection_set=\"group\")\n",
    "print('Group indices of S in SXTP:',group_indices_S_in_SXTP)"
   ]
  },
  {
   "cell_type": "markdown",
   "metadata": {},
   "source": [
    "Lets show now the SXTP peptide (cartoon in white) with the S fragment in color black:"
   ]
  },
  {
   "cell_type": "code",
   "execution_count": null,
   "metadata": {},
   "outputs": [],
   "source": [
    "nv_selection_S = msm.select(SXTP, selection='group.index==@group_indices_S_in_SXTP', to_syntaxis='NGLview')\n",
    "color_S='black'"
   ]
  },
  {
   "cell_type": "code",
   "execution_count": 21,
   "metadata": {},
   "outputs": [
    {
     "data": {
      "application/vnd.jupyter.widget-view+json": {
       "model_id": "81e4825d0bba48d681d78be8060ed251",
       "version_major": 2,
       "version_minor": 0
      },
      "text/plain": [
       "NGLWidget()"
      ]
     },
     "metadata": {},
     "output_type": "display_data"
    }
   ],
   "source": [
    "view = nv.show_molsysmt(SXTP)\n",
    "view.clear_representations()\n",
    "view.add_cartoon('all', color='white')\n",
    "view.add_cartoon(selection=nv_selection_S, color=color_S)\n",
    "view"
   ]
  },
  {
   "cell_type": "markdown",
   "metadata": {},
   "source": [
    "## X fragment\n",
    "\n",
    "The fragment Bax BH3:"
   ]
  },
  {
   "cell_type": "code",
   "execution_count": 22,
   "metadata": {},
   "outputs": [],
   "source": [
    "X = \"aminoacids1:STKKLSECLKRIGDELDSNM\""
   ]
  },
  {
   "cell_type": "code",
   "execution_count": 23,
   "metadata": {},
   "outputs": [
    {
     "name": "stdout",
     "output_type": "stream",
     "text": [
      "\u001b[1;34;48mA\u001b[m\u001b[1;34;48mR\u001b[m\u001b[1;34;48mC\u001b[m\u001b[1;34;48mE\u001b[m\u001b[1;34;48mA\u001b[m\u001b[1;34;48mA\u001b[m\u001b[1;34;48mA\u001b[m\u001b[1;34;48mA\u001b[m\u001b[1;34;48mA\u001b[m\u001b[1;34;48mE\u001b[m\u001b[1;34;48mA\u001b[m\u001b[1;34;48mA\u001b[m\u001b[1;34;48mA\u001b[m\u001b[1;34;48mA\u001b[m\u001b[1;34;48mA\u001b[m\u001b[1;34;48mE\u001b[m\u001b[1;34;48mA\u001b[m\u001b[1;34;48mA\u001b[m\u001b[1;34;48mA\u001b[m\u001b[1;34;48mA\u001b[m\u001b[1;34;48mA\u001b[m\u001b[1;34;48mE\u001b[m\u001b[1;34;48mA\u001b[m\u001b[1;34;48mA\u001b[m\u001b[1;34;48mA\u001b[m\u001b[1;34;48mA\u001b[m\u001b[1;34;48mA\u001b[m\u001b[1;34;48mA\u001b[m\u001b[1;34;48mR\u001b[m\u001b[1;34;48mD\u001b[m\u001b[1;34;48mY\u001b[m\u001b[1;34;48mK\u001b[m\u001b[1;34;48mD\u001b[m\u001b[1;34;48mD\u001b[m\u001b[1;34;48mD\u001b[m\u001b[1;34;48mD\u001b[m\u001b[1;34;48mK\u001b[m\u001b[1;34;48mA\u001b[m\u001b[1;34;48mR\u001b[mSTKKLSECLKRIGDELDSNM\u001b[1;34;48mA\u001b[m\u001b[1;34;48mR\u001b[m\u001b[1;34;48mK\u001b[m\u001b[1;34;48mR\u001b[m\u001b[1;34;48mP\u001b[m\u001b[1;34;48mG\u001b[m\u001b[1;34;48mG\u001b[m\u001b[1;34;48mG\u001b[m\u001b[1;34;48mG\u001b[m\u001b[1;34;48mG\u001b[m\u001b[1;34;48mK\u001b[m\u001b[1;34;48mR\u001b[m\u001b[1;34;48mG\u001b[m\u001b[1;34;48mG\u001b[m\u001b[1;34;48mG\u001b[m\u001b[1;34;48mG\u001b[m\u001b[1;34;48mG\u001b[m\u001b[1;34;48mP\u001b[m\u001b[1;34;48mK\u001b[m\u001b[1;34;48mR\u001b[m\u001b[1;34;48mA\u001b[m\u001b[1;34;48mS\u001b[m\n",
      "\n",
      "---------------------------------------STKKLSECLKRIGDELDSNM----------------------\n"
     ]
    }
   ],
   "source": [
    "msm.sequence_alignment(SXTP, X, prettyprint=True)"
   ]
  },
  {
   "cell_type": "code",
   "execution_count": 24,
   "metadata": {},
   "outputs": [
    {
     "name": "stdout",
     "output_type": "stream",
     "text": [
      "Group indices of X in SXTP: [61, 62, 63, 64, 65, 66, 67, 68, 69, 70, 71, 72, 73, 74, 75, 76, 77, 78]\n"
     ]
    }
   ],
   "source": [
    "_, group_indices_X_in_SXTP, _ = msm.sequence_identity(SXTP, X, target_intersection_set=\"group\")\n",
    "print('Group indices of X in SXTP:',group_indices_X_in_SXTP)"
   ]
  },
  {
   "cell_type": "markdown",
   "metadata": {},
   "source": [
    "Lets show now the SXTP peptide (cartoon in white) with the X fragment in color green:"
   ]
  },
  {
   "cell_type": "code",
   "execution_count": 26,
   "metadata": {},
   "outputs": [],
   "source": [
    "nv_selection_X = msm.select(SXTP, selection='group.index==@group_indices_X_in_SXTP', to_syntaxis='NGLview')\n",
    "color_X='green'"
   ]
  },
  {
   "cell_type": "code",
   "execution_count": 27,
   "metadata": {},
   "outputs": [
    {
     "data": {
      "application/vnd.jupyter.widget-view+json": {
       "model_id": "c51d26670ad1449288a492fbf8f7406b",
       "version_major": 2,
       "version_minor": 0
      },
      "text/plain": [
       "NGLWidget()"
      ]
     },
     "metadata": {},
     "output_type": "display_data"
    }
   ],
   "source": [
    "view = nv.show_molsysmt(SXTP)\n",
    "view.clear_representations()\n",
    "view.add_cartoon('all', color='white')\n",
    "view.add_cartoon(selection=nv_selection_X, color=color_X)\n",
    "view"
   ]
  },
  {
   "cell_type": "markdown",
   "metadata": {},
   "source": [
    "## T fragment\n",
    "\n",
    "The fragment Flag:"
   ]
  },
  {
   "cell_type": "code",
   "execution_count": 28,
   "metadata": {},
   "outputs": [],
   "source": [
    "T = \"aminoacids1:DYKDDDDK\""
   ]
  },
  {
   "cell_type": "code",
   "execution_count": 29,
   "metadata": {},
   "outputs": [
    {
     "name": "stdout",
     "output_type": "stream",
     "text": [
      "\u001b[1;34;48mA\u001b[m\u001b[1;34;48mR\u001b[m\u001b[1;34;48mC\u001b[m\u001b[1;34;48mE\u001b[m\u001b[1;34;48mA\u001b[m\u001b[1;34;48mA\u001b[m\u001b[1;34;48mA\u001b[m\u001b[1;34;48mA\u001b[m\u001b[1;34;48mA\u001b[m\u001b[1;34;48mE\u001b[m\u001b[1;34;48mA\u001b[m\u001b[1;34;48mA\u001b[m\u001b[1;34;48mA\u001b[m\u001b[1;34;48mA\u001b[m\u001b[1;34;48mA\u001b[m\u001b[1;34;48mE\u001b[m\u001b[1;34;48mA\u001b[m\u001b[1;34;48mA\u001b[m\u001b[1;34;48mA\u001b[m\u001b[1;34;48mA\u001b[m\u001b[1;34;48mA\u001b[m\u001b[1;34;48mE\u001b[m\u001b[1;34;48mA\u001b[m\u001b[1;34;48mA\u001b[m\u001b[1;34;48mA\u001b[m\u001b[1;34;48mA\u001b[m\u001b[1;34;48mA\u001b[m\u001b[1;34;48mA\u001b[m\u001b[1;34;48mR\u001b[mDYKDDDDK\u001b[1;34;48mA\u001b[m\u001b[1;34;48mR\u001b[m\u001b[1;34;48mS\u001b[m\u001b[1;34;48mT\u001b[m\u001b[1;34;48mK\u001b[m\u001b[1;34;48mK\u001b[m\u001b[1;34;48mL\u001b[m\u001b[1;34;48mS\u001b[m\u001b[1;34;48mE\u001b[m\u001b[1;34;48mC\u001b[m\u001b[1;34;48mL\u001b[m\u001b[1;34;48mK\u001b[m\u001b[1;34;48mR\u001b[m\u001b[1;34;48mI\u001b[m\u001b[1;34;48mG\u001b[m\u001b[1;34;48mD\u001b[m\u001b[1;34;48mE\u001b[m\u001b[1;34;48mL\u001b[m\u001b[1;34;48mD\u001b[m\u001b[1;34;48mS\u001b[m\u001b[1;34;48mN\u001b[m\u001b[1;34;48mM\u001b[m\u001b[1;34;48mA\u001b[m\u001b[1;34;48mR\u001b[m\u001b[1;34;48mK\u001b[m\u001b[1;34;48mR\u001b[m\u001b[1;34;48mP\u001b[m\u001b[1;34;48mG\u001b[m\u001b[1;34;48mG\u001b[m\u001b[1;34;48mG\u001b[m\u001b[1;34;48mG\u001b[m\u001b[1;34;48mG\u001b[m\u001b[1;34;48mK\u001b[m\u001b[1;34;48mR\u001b[m\u001b[1;34;48mG\u001b[m\u001b[1;34;48mG\u001b[m\u001b[1;34;48mG\u001b[m\u001b[1;34;48mG\u001b[m\u001b[1;34;48mG\u001b[m\u001b[1;34;48mP\u001b[m\u001b[1;34;48mK\u001b[m\u001b[1;34;48mR\u001b[m\u001b[1;34;48mA\u001b[m\u001b[1;34;48mS\u001b[m\n",
      "\n",
      "-----------------------------DYKDDDDK--------------------------------------------\n"
     ]
    }
   ],
   "source": [
    "msm.sequence_alignment(SXTP, T, prettyprint=True)"
   ]
  },
  {
   "cell_type": "code",
   "execution_count": 30,
   "metadata": {},
   "outputs": [
    {
     "name": "stdout",
     "output_type": "stream",
     "text": [
      "Group indices of T in SXTP: [29, 30, 31, 32, 33, 34, 35, 36]\n"
     ]
    }
   ],
   "source": [
    "_, group_indices_T_in_SXTP, _ = msm.sequence_identity(SXTP, T, target_intersection_set=\"group\")\n",
    "print('Group indices of T in SXTP:',group_indices_T_in_SXTP)"
   ]
  },
  {
   "cell_type": "markdown",
   "metadata": {},
   "source": [
    "Lets show now the SXTP peptide (cartoon in white) with the T fragment in color red:"
   ]
  },
  {
   "cell_type": "code",
   "execution_count": 31,
   "metadata": {},
   "outputs": [],
   "source": [
    "nv_selection_T = msm.select(SXTP, selection='group.index==@group_indices_T_in_SXTP', to_syntaxis='NGLview')\n",
    "color_T='red'"
   ]
  },
  {
   "cell_type": "code",
   "execution_count": 32,
   "metadata": {},
   "outputs": [
    {
     "data": {
      "application/vnd.jupyter.widget-view+json": {
       "model_id": "fcefe3fc93744414afa574656d00f0ef",
       "version_major": 2,
       "version_minor": 0
      },
      "text/plain": [
       "NGLWidget()"
      ]
     },
     "metadata": {},
     "output_type": "display_data"
    }
   ],
   "source": [
    "view = nv.show_molsysmt(SXTP)\n",
    "view.clear_representations()\n",
    "view.add_cartoon('all', color='white')\n",
    "view.add_cartoon(selection=nv_selection_T, color=color_T)\n",
    "view"
   ]
  },
  {
   "cell_type": "markdown",
   "metadata": {},
   "source": [
    "## P fragment\n",
    "\n",
    "The Fusogenic fragment:"
   ]
  },
  {
   "cell_type": "code",
   "execution_count": 28,
   "metadata": {},
   "outputs": [],
   "source": [
    "P = \"aminoacids1:EAAAAAEAAAAAEAAAAAEAAAAAA\""
   ]
  },
  {
   "cell_type": "code",
   "execution_count": 29,
   "metadata": {},
   "outputs": [
    {
     "name": "stdout",
     "output_type": "stream",
     "text": [
      "\u001b[1;34;48mA\u001b[m\u001b[1;34;48mR\u001b[m\u001b[1;34;48mC\u001b[m\u001b[1;34;48mE\u001b[m\u001b[1;34;48mA\u001b[m\u001b[1;34;48mA\u001b[m\u001b[1;34;48mA\u001b[m\u001b[1;34;48mA\u001b[m\u001b[1;34;48mA\u001b[m\u001b[1;34;48mE\u001b[m\u001b[1;34;48mA\u001b[m\u001b[1;34;48mA\u001b[m\u001b[1;34;48mA\u001b[m\u001b[1;34;48mA\u001b[m\u001b[1;34;48mA\u001b[m\u001b[1;34;48mE\u001b[m\u001b[1;34;48mA\u001b[m\u001b[1;34;48mA\u001b[m\u001b[1;34;48mA\u001b[m\u001b[1;34;48mA\u001b[m\u001b[1;34;48mA\u001b[m\u001b[1;34;48mE\u001b[m\u001b[1;34;48mA\u001b[m\u001b[1;34;48mA\u001b[m\u001b[1;34;48mA\u001b[m\u001b[1;34;48mA\u001b[m\u001b[1;34;48mA\u001b[m\u001b[1;34;48mA\u001b[m\u001b[1;34;48mR\u001b[mDYKDDDDK\u001b[1;34;48mA\u001b[m\u001b[1;34;48mR\u001b[m\u001b[1;34;48mS\u001b[m\u001b[1;34;48mT\u001b[m\u001b[1;34;48mK\u001b[m\u001b[1;34;48mK\u001b[m\u001b[1;34;48mL\u001b[m\u001b[1;34;48mS\u001b[m\u001b[1;34;48mE\u001b[m\u001b[1;34;48mC\u001b[m\u001b[1;34;48mL\u001b[m\u001b[1;34;48mK\u001b[m\u001b[1;34;48mR\u001b[m\u001b[1;34;48mI\u001b[m\u001b[1;34;48mG\u001b[m\u001b[1;34;48mD\u001b[m\u001b[1;34;48mE\u001b[m\u001b[1;34;48mL\u001b[m\u001b[1;34;48mD\u001b[m\u001b[1;34;48mS\u001b[m\u001b[1;34;48mN\u001b[m\u001b[1;34;48mM\u001b[m\u001b[1;34;48mA\u001b[m\u001b[1;34;48mR\u001b[m\u001b[1;34;48mK\u001b[m\u001b[1;34;48mR\u001b[m\u001b[1;34;48mP\u001b[m\u001b[1;34;48mG\u001b[m\u001b[1;34;48mG\u001b[m\u001b[1;34;48mG\u001b[m\u001b[1;34;48mG\u001b[m\u001b[1;34;48mG\u001b[m\u001b[1;34;48mK\u001b[m\u001b[1;34;48mR\u001b[m\u001b[1;34;48mG\u001b[m\u001b[1;34;48mG\u001b[m\u001b[1;34;48mG\u001b[m\u001b[1;34;48mG\u001b[m\u001b[1;34;48mG\u001b[m\u001b[1;34;48mP\u001b[m\u001b[1;34;48mK\u001b[m\u001b[1;34;48mR\u001b[m\u001b[1;34;48mA\u001b[m\u001b[1;34;48mS\u001b[m\n",
      "\n",
      "-----------------------------DYKDDDDK--------------------------------------------\n"
     ]
    }
   ],
   "source": [
    "msm.sequence_alignment(SXTP, P, prettyprint=True)"
   ]
  },
  {
   "cell_type": "code",
   "execution_count": 33,
   "metadata": {},
   "outputs": [
    {
     "name": "stdout",
     "output_type": "stream",
     "text": [
      "Group indices of P in SXTP: [3, 4, 5, 6, 7, 8, 9, 10, 11, 12, 13, 14, 15, 16, 17, 18, 19, 20, 21, 22, 23, 24, 25, 26, 27]\n"
     ]
    }
   ],
   "source": [
    "_, group_indices_P_in_SXTP, _ = msm.sequence_identity(SXTP, P, target_intersection_set=\"group\")\n",
    "print('Group indices of P in SXTP:',group_indices_P_in_SXTP)"
   ]
  },
  {
   "cell_type": "markdown",
   "metadata": {},
   "source": [
    "Lets show now the SXTP peptide (cartoon in white) with the P fragment in color blue:"
   ]
  },
  {
   "cell_type": "code",
   "execution_count": 34,
   "metadata": {},
   "outputs": [],
   "source": [
    "nv_selection_P = msm.select(SXTP, selection='group.index==@group_indices_P_in_SXTP', to_syntaxis='NGLview')\n",
    "color_P='blue'"
   ]
  },
  {
   "cell_type": "code",
   "execution_count": 35,
   "metadata": {},
   "outputs": [
    {
     "data": {
      "application/vnd.jupyter.widget-view+json": {
       "model_id": "10b34ed11ed14d63b69f544773d92c08",
       "version_major": 2,
       "version_minor": 0
      },
      "text/plain": [
       "NGLWidget()"
      ]
     },
     "metadata": {},
     "output_type": "display_data"
    }
   ],
   "source": [
    "view = nv.show_molsysmt(SXTP)\n",
    "view.clear_representations()\n",
    "view.add_cartoon('all', color='white')\n",
    "view.add_cartoon(selection=nv_selection_P, color=color_P)\n",
    "view"
   ]
  },
  {
   "cell_type": "markdown",
   "metadata": {},
   "source": [
    "# All fragments in SXTP"
   ]
  },
  {
   "cell_type": "code",
   "execution_count": 37,
   "metadata": {},
   "outputs": [
    {
     "data": {
      "application/vnd.jupyter.widget-view+json": {
       "model_id": "0dd527d70e5c4260afdee28a5b8f51be",
       "version_major": 2,
       "version_minor": 0
      },
      "text/plain": [
       "NGLWidget()"
      ]
     },
     "metadata": {},
     "output_type": "display_data"
    }
   ],
   "source": [
    "view = nv.show_molsysmt(SXTP)\n",
    "view.clear_representations()\n",
    "view.add_cartoon('all', color='white')\n",
    "view.add_cartoon(selection=nv_selection_S, color=color_S)\n",
    "view.add_cartoon(selection=nv_selection_X, color=color_X)\n",
    "view.add_cartoon(selection=nv_selection_T, color=color_T)\n",
    "view.add_cartoon(selection=nv_selection_P, color=color_P)\n",
    "view"
   ]
  },
  {
   "cell_type": "code",
   "execution_count": null,
   "metadata": {},
   "outputs": [],
   "source": []
  }
 ],
 "metadata": {
  "kernelspec": {
   "display_name": "Python 3",
   "language": "python",
   "name": "python3"
  },
  "language_info": {
   "codemirror_mode": {
    "name": "ipython",
    "version": 3
   },
   "file_extension": ".py",
   "mimetype": "text/x-python",
   "name": "python",
   "nbconvert_exporter": "python",
   "pygments_lexer": "ipython3",
   "version": "3.7.7"
  }
 },
 "nbformat": 4,
 "nbformat_minor": 4
}
