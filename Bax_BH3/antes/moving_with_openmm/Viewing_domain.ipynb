{
 "cells": [
  {
   "cell_type": "code",
   "execution_count": 1,
   "metadata": {},
   "outputs": [],
   "source": [
    "%load_ext autoreload\n",
    "%autoreload 2"
   ]
  },
  {
   "cell_type": "code",
   "execution_count": 2,
   "metadata": {},
   "outputs": [
    {
     "name": "stderr",
     "output_type": "stream",
     "text": [
      "/home/diego/Myopt/Miniconda/miniconda3/envs/UIBCDF_lab_dev/lib/python3.7/site-packages/yank/experiment.py:1161: YAMLLoadWarning: calling yaml.load() without Loader=... is deprecated, as the default Loader is unsafe. Please read https://msg.pyyaml.org/load for full details.\n",
      "  \"\"\")\n"
     ]
    }
   ],
   "source": [
    "import molmodmt as m3t"
   ]
  },
  {
   "cell_type": "code",
   "execution_count": 3,
   "metadata": {},
   "outputs": [
    {
     "name": "stdout",
     "output_type": "stream",
     "text": [
      "Simulation steps: 250000\n",
      "Saving steps: 500\n",
      "Saved steps: 500\n",
      "#\"Progress (%)\"\t\"Step\"\t\"Speed (ns/day)\"\t\"Time Remaining\"\n",
      "1.0%\t2500\t0\t--\n",
      "2.0%\t5000\t78.9\t8:56\n",
      "3.0%\t7500\t78.3\t8:54\n",
      "4.0%\t10000\t78.6\t8:47\n",
      "5.0%\t12500\t78.4\t8:43\n",
      "6.0%\t15000\t78.4\t8:37\n",
      "7.0%\t17500\t78.3\t8:33\n",
      "8.0%\t20000\t76.5\t8:39\n",
      "9.0%\t22500\t74.2\t8:49\n",
      "10.0%\t25000\t72\t9:00\n",
      "11.0%\t27500\t70.3\t9:06\n",
      "12.0%\t30000\t69\t9:11\n",
      "13.0%\t32500\t67.9\t9:13\n",
      "14.0%\t35000\t67\t9:14\n",
      "15.0%\t37500\t66.3\t9:14\n",
      "16.0%\t40000\t65.7\t9:12\n",
      "17.0%\t42500\t65.1\t9:10\n",
      "18.0%\t45000\t64.7\t9:07\n",
      "19.0%\t47500\t64.3\t9:04\n",
      "20.0%\t50000\t63.9\t9:00\n",
      "21.0%\t52500\t63.6\t8:56\n",
      "22.0%\t55000\t63.3\t8:52\n",
      "23.0%\t57500\t63\t8:47\n",
      "24.0%\t60000\t62.7\t8:43\n",
      "25.0%\t62500\t62.5\t8:38\n",
      "26.0%\t65000\t62.3\t8:32\n",
      "27.0%\t67500\t62.1\t8:27\n",
      "28.0%\t70000\t62\t8:22\n",
      "29.0%\t72500\t61.8\t8:16\n",
      "30.0%\t75000\t61.7\t8:10\n",
      "31.0%\t77500\t61.5\t8:04\n",
      "32.0%\t80000\t61.4\t7:58\n",
      "33.0%\t82500\t61.3\t7:52\n",
      "34.0%\t85000\t61.2\t7:46\n",
      "35.0%\t87500\t61.1\t7:39\n",
      "36.0%\t90000\t61\t7:33\n",
      "37.0%\t92500\t60.9\t7:26\n",
      "38.0%\t95000\t60.8\t7:20\n",
      "39.0%\t97500\t60.7\t7:14\n",
      "40.0%\t100000\t60.7\t7:07\n",
      "41.0%\t102500\t60.6\t7:00\n",
      "42.0%\t105000\t60.5\t6:54\n",
      "43.0%\t107500\t60.5\t6:47\n",
      "44.0%\t110000\t60.4\t6:40\n",
      "45.0%\t112500\t60.3\t6:33\n",
      "46.0%\t115000\t60.3\t6:27\n",
      "47.0%\t117500\t60.2\t6:20\n",
      "48.0%\t120000\t60.2\t6:13\n",
      "49.0%\t122500\t60.1\t6:06\n",
      "50.0%\t125000\t60.1\t5:59\n",
      "51.0%\t127500\t60\t5:52\n",
      "52.0%\t130000\t60\t5:45\n",
      "53.0%\t132500\t60\t5:38\n",
      "54.0%\t135000\t59.9\t5:31\n",
      "55.0%\t137500\t59.9\t5:24\n",
      "56.0%\t140000\t59.8\t5:17\n",
      "57.0%\t142500\t59.8\t5:10\n",
      "58.0%\t145000\t59.8\t5:03\n",
      "59.0%\t147500\t59.7\t4:56\n",
      "60.0%\t150000\t59.7\t4:49\n",
      "61.0%\t152500\t59.7\t4:42\n",
      "62.0%\t155000\t59.6\t4:35\n",
      "63.0%\t157500\t59.5\t4:28\n",
      "64.0%\t160000\t59.5\t4:21\n",
      "65.0%\t162500\t59.5\t4:14\n",
      "66.0%\t165000\t59.5\t4:07\n",
      "67.0%\t167500\t59.4\t3:59\n",
      "68.0%\t170000\t59.4\t3:52\n",
      "69.0%\t172500\t59.4\t3:45\n",
      "70.0%\t175000\t59.4\t3:38\n",
      "71.0%\t177500\t59.3\t3:31\n",
      "72.0%\t180000\t59.3\t3:23\n",
      "73.0%\t182500\t59.3\t3:16\n",
      "74.0%\t185000\t59.3\t3:09\n",
      "75.0%\t187500\t59.3\t3:02\n",
      "76.0%\t190000\t59.2\t2:54\n",
      "77.0%\t192500\t59.2\t2:47\n",
      "78.0%\t195000\t59.2\t2:40\n",
      "79.0%\t197500\t59.2\t2:33\n",
      "80.0%\t200000\t59.2\t2:25\n",
      "81.0%\t202500\t59.2\t2:18\n",
      "82.0%\t205000\t59.2\t2:11\n",
      "83.0%\t207500\t59.1\t2:04\n",
      "84.0%\t210000\t59.1\t1:56\n",
      "85.0%\t212500\t59.1\t1:49\n",
      "86.0%\t215000\t59.1\t1:42\n",
      "87.0%\t217500\t59.1\t1:35\n",
      "88.0%\t220000\t59.1\t1:27\n",
      "89.0%\t222500\t59\t1:20\n",
      "90.0%\t225000\t59\t1:13\n",
      "91.0%\t227500\t59\t1:05\n",
      "92.0%\t230000\t59\t0:58\n",
      "93.0%\t232500\t59\t0:51\n",
      "94.0%\t235000\t59\t0:43\n",
      "95.0%\t237500\t59\t0:36\n",
      "96.0%\t240000\t59\t0:29\n",
      "97.0%\t242500\t58.9\t0:21\n",
      "98.0%\t245000\t58.9\t0:14\n",
      "99.0%\t247500\t58.9\t0:07\n",
      "100.0%\t250000\t58.9\t0:00\n"
     ]
    }
   ],
   "source": [
    "%run -i 'moving.py'"
   ]
  },
  {
   "cell_type": "code",
   "execution_count": 4,
   "metadata": {},
   "outputs": [],
   "source": [
    "topology = m3t.convert('fin.pdb','openmm.Topology')"
   ]
  },
  {
   "cell_type": "code",
   "execution_count": 5,
   "metadata": {},
   "outputs": [],
   "source": [
    "traj_md = m3t.load('trajectory.dcd','mdtraj',topology=topology)"
   ]
  },
  {
   "cell_type": "code",
   "execution_count": 7,
   "metadata": {},
   "outputs": [],
   "source": [
    "traj_md[-1].save_pdb('fin.pdb')"
   ]
  },
  {
   "cell_type": "code",
   "execution_count": 6,
   "metadata": {},
   "outputs": [
    {
     "data": {
      "application/vnd.jupyter.widget-view+json": {
       "model_id": "df67189f9aa743078b92b3a569db4b57",
       "version_major": 2,
       "version_minor": 0
      },
      "text/plain": [
       "NGLWidget(count=500)"
      ]
     },
     "metadata": {},
     "output_type": "display_data"
    }
   ],
   "source": [
    "m3t.view(traj_md)"
   ]
  },
  {
   "cell_type": "code",
   "execution_count": null,
   "metadata": {},
   "outputs": [],
   "source": [
    "primera_fuerza=np.array([-5.0, -10.0, 0.0])"
   ]
  },
  {
   "cell_type": "code",
   "execution_count": null,
   "metadata": {},
   "outputs": [],
   "source": []
  },
  {
   "cell_type": "code",
   "execution_count": null,
   "metadata": {},
   "outputs": [],
   "source": [
    "system = m3t.load('MisL_Phyre_minimized.pdb')"
   ]
  },
  {
   "cell_type": "code",
   "execution_count": null,
   "metadata": {},
   "outputs": [],
   "source": []
  }
 ],
 "metadata": {
  "kernelspec": {
   "display_name": "Python 3",
   "language": "python",
   "name": "python3"
  },
  "language_info": {
   "codemirror_mode": {
    "name": "ipython",
    "version": 3
   },
   "file_extension": ".py",
   "mimetype": "text/x-python",
   "name": "python",
   "nbconvert_exporter": "python",
   "pygments_lexer": "ipython3",
   "version": "3.7.1"
  }
 },
 "nbformat": 4,
 "nbformat_minor": 2
}
