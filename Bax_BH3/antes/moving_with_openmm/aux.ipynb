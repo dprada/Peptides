{
 "cells": [
  {
   "cell_type": "code",
   "execution_count": 1,
   "metadata": {},
   "outputs": [],
   "source": [
    "%load_ext autoreload\n",
    "%autoreload 2"
   ]
  },
  {
   "cell_type": "code",
   "execution_count": 2,
   "metadata": {},
   "outputs": [
    {
     "name": "stderr",
     "output_type": "stream",
     "text": [
      "/home/diego/Myusr/opt/miniconda3/envs/UIBCDF_lab_dev/lib/python3.7/site-packages/yank/experiment.py:1161: YAMLLoadWarning: calling yaml.load() without Loader=... is deprecated, as the default Loader is unsafe. Please read https://msg.pyyaml.org/load for full details.\n",
      "  \"\"\")\n"
     ]
    }
   ],
   "source": [
    "import molmodmt as m3t\n",
    "import simtk.openmm as mm\n",
    "import simtk.unit as unit\n",
    "import simtk.openmm.app as app\n",
    "import numpy as np"
   ]
  },
  {
   "cell_type": "code",
   "execution_count": null,
   "metadata": {},
   "outputs": [],
   "source": []
  },
  {
   "cell_type": "code",
   "execution_count": null,
   "metadata": {},
   "outputs": [],
   "source": [
    "system = m3t.load('fin2.pdb','openmm.Modeller')"
   ]
  },
  {
   "cell_type": "code",
   "execution_count": null,
<<<<<<< HEAD:moving_with_openmm/Viewing_domain.ipynb
=======
   "metadata": {},
   "outputs": [],
   "source": [
    "positions = m3t.get(system, coordinates = True)"
   ]
  },
  {
   "cell_type": "code",
   "execution_count": null,
>>>>>>> 53f633f4aee9537063a369d8d8c407c2e8629fff:MisL_PepFus/moving_with_openmm/aux.ipynb
   "metadata": {},
   "outputs": [],
   "source": [
    "view = m3t.view(system)\n",
    "view"
   ]
  },
  {
   "cell_type": "code",
   "execution_count": null,
<<<<<<< HEAD:moving_with_openmm/Viewing_domain.ipynb
   "metadata": {},
   "outputs": [],
=======
   "metadata": {},
   "outputs": [],
   "source": [
    "atoms_sel = m3t.select(system, 'resid 0 and name CA')\n",
    "\n",
    "for ii in atoms_sel:\n",
    "    arrow_init = positions[ii]._value*10\n",
    "    vect_to_pull = np.array([0.0, -10.0, 0.0])\n",
    "    arrow_end = arrow_init + vect_to_pull\n",
    "    view.shape.add_arrow(arrow_init, arrow_end, [1.0, 0.0, 0.0], 1.0, 'F')"
   ]
  },
  {
   "cell_type": "code",
   "execution_count": 24,
   "metadata": {},
   "outputs": [
    {
     "data": {
      "text/plain": [
       "(1, 1, 1)"
      ]
     },
     "execution_count": 24,
     "metadata": {},
     "output_type": "execute_result"
    }
   ],
>>>>>>> 53f633f4aee9537063a369d8d8c407c2e8629fff:MisL_PepFus/moving_with_openmm/aux.ipynb
   "source": [
    "m3t.distances(system,selection=0,selection2=100).shape"
   ]
  },
  {
   "cell_type": "code",
   "execution_count": null,
   "metadata": {},
   "outputs": [],
   "source": [
    "system"
   ]
  },
  {
   "cell_type": "code",
   "execution_count": null,
   "metadata": {},
   "outputs": [],
   "source": []
  }
 ],
 "metadata": {
  "kernelspec": {
   "display_name": "Python 3",
   "language": "python",
   "name": "python3"
  },
  "language_info": {
   "codemirror_mode": {
    "name": "ipython",
    "version": 3
   },
   "file_extension": ".py",
   "mimetype": "text/x-python",
   "name": "python",
   "nbconvert_exporter": "python",
   "pygments_lexer": "ipython3",
   "version": "3.7.3"
  }
 },
 "nbformat": 4,
 "nbformat_minor": 2
}
