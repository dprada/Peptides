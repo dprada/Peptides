{
 "cells": [
  {
   "cell_type": "code",
   "execution_count": 1,
   "metadata": {},
   "outputs": [],
   "source": [
    "%load_ext autoreload\n",
    "%autoreload 2"
   ]
  },
  {
   "cell_type": "code",
   "execution_count": 2,
   "metadata": {},
   "outputs": [
    {
     "data": {
      "application/vnd.jupyter.widget-view+json": {
       "model_id": "af9e1bd9a5964251944aed8d4a08fb0f",
       "version_major": 2,
       "version_minor": 0
      },
      "text/plain": []
     },
     "metadata": {},
     "output_type": "display_data"
    }
   ],
   "source": [
    "import molsysmt as msm\n",
    "import uibcdf_tools as uibcdf_tools\n",
    "import numpy as np"
   ]
  },
  {
   "cell_type": "markdown",
   "metadata": {},
   "source": [
    "# Systems physico chemical properties"
   ]
  },
  {
   "cell_type": "code",
   "execution_count": 11,
   "metadata": {},
   "outputs": [
    {
     "data": {
      "text/html": [
       "<style  type=\"text/css\" >\n",
       "</style><table id=\"T_81c233bc_dd84_11ea_828a_d1b95b8b5869\" ><thead>    <tr>        <th class=\"col_heading level0 col0\" >form</th>        <th class=\"col_heading level0 col1\" >n_atoms</th>        <th class=\"col_heading level0 col2\" >n_groups</th>        <th class=\"col_heading level0 col3\" >n_components</th>        <th class=\"col_heading level0 col4\" >n_chains</th>        <th class=\"col_heading level0 col5\" >n_molecules</th>        <th class=\"col_heading level0 col6\" >n_entities</th>        <th class=\"col_heading level0 col7\" >n_peptides</th>        <th class=\"col_heading level0 col8\" >n_frames</th>    </tr></thead><tbody>\n",
       "                <tr>\n",
       "                                <td id=\"T_81c233bc_dd84_11ea_828a_d1b95b8b5869row0_col0\" class=\"data row0 col0\" >molsysmt.MolSys</td>\n",
       "                        <td id=\"T_81c233bc_dd84_11ea_828a_d1b95b8b5869row0_col1\" class=\"data row0 col1\" >319</td>\n",
       "                        <td id=\"T_81c233bc_dd84_11ea_828a_d1b95b8b5869row0_col2\" class=\"data row0 col2\" >20</td>\n",
       "                        <td id=\"T_81c233bc_dd84_11ea_828a_d1b95b8b5869row0_col3\" class=\"data row0 col3\" >1</td>\n",
       "                        <td id=\"T_81c233bc_dd84_11ea_828a_d1b95b8b5869row0_col4\" class=\"data row0 col4\" >1</td>\n",
       "                        <td id=\"T_81c233bc_dd84_11ea_828a_d1b95b8b5869row0_col5\" class=\"data row0 col5\" >1</td>\n",
       "                        <td id=\"T_81c233bc_dd84_11ea_828a_d1b95b8b5869row0_col6\" class=\"data row0 col6\" >1</td>\n",
       "                        <td id=\"T_81c233bc_dd84_11ea_828a_d1b95b8b5869row0_col7\" class=\"data row0 col7\" >1</td>\n",
       "                        <td id=\"T_81c233bc_dd84_11ea_828a_d1b95b8b5869row0_col8\" class=\"data row0 col8\" >1</td>\n",
       "            </tr>\n",
       "    </tbody></table>"
      ],
      "text/plain": [
       "<pandas.io.formats.style.Styler at 0x7f06e27ebf50>"
      ]
     },
     "execution_count": 11,
     "metadata": {},
     "output_type": "execute_result"
    }
   ],
   "source": [
    "BH3 = msm.convert('BH3.pdb')\n",
    "msm.info(BH3)"
   ]
  },
  {
   "cell_type": "code",
   "execution_count": 4,
   "metadata": {},
   "outputs": [],
   "source": [
    "BH3_pH0 = msm.convert('BH3_pH0.pdb')\n",
    "msm.info(BH3_pH0)"
   ]
  },
  {
   "cell_type": "code",
   "execution_count": 4,
   "metadata": {},
   "outputs": [],
   "source": [
    "BH3_pH14 = msm.convert('BH3_pH14.pdb')\n",
    "msm.info(BH3_pH14)"
   ]
  },
  {
   "cell_type": "code",
   "execution_count": 9,
   "metadata": {},
   "outputs": [
    {
     "data": {
      "text/html": [
       "<style  type=\"text/css\" >\n",
       "</style><table id=\"T_770f2114_dd84_11ea_828a_d1b95b8b5869\" ><thead>    <tr>        <th class=\"col_heading level0 col0\" >form</th>        <th class=\"col_heading level0 col1\" >n_atoms</th>        <th class=\"col_heading level0 col2\" >n_groups</th>        <th class=\"col_heading level0 col3\" >n_components</th>        <th class=\"col_heading level0 col4\" >n_chains</th>        <th class=\"col_heading level0 col5\" >n_molecules</th>        <th class=\"col_heading level0 col6\" >n_entities</th>        <th class=\"col_heading level0 col7\" >n_peptides</th>        <th class=\"col_heading level0 col8\" >n_frames</th>    </tr></thead><tbody>\n",
       "                <tr>\n",
       "                                <td id=\"T_770f2114_dd84_11ea_828a_d1b95b8b5869row0_col0\" class=\"data row0 col0\" >molsysmt.MolSys</td>\n",
       "                        <td id=\"T_770f2114_dd84_11ea_828a_d1b95b8b5869row0_col1\" class=\"data row0 col1\" >328</td>\n",
       "                        <td id=\"T_770f2114_dd84_11ea_828a_d1b95b8b5869row0_col2\" class=\"data row0 col2\" >22</td>\n",
       "                        <td id=\"T_770f2114_dd84_11ea_828a_d1b95b8b5869row0_col3\" class=\"data row0 col3\" >1</td>\n",
       "                        <td id=\"T_770f2114_dd84_11ea_828a_d1b95b8b5869row0_col4\" class=\"data row0 col4\" >1</td>\n",
       "                        <td id=\"T_770f2114_dd84_11ea_828a_d1b95b8b5869row0_col5\" class=\"data row0 col5\" >1</td>\n",
       "                        <td id=\"T_770f2114_dd84_11ea_828a_d1b95b8b5869row0_col6\" class=\"data row0 col6\" >1</td>\n",
       "                        <td id=\"T_770f2114_dd84_11ea_828a_d1b95b8b5869row0_col7\" class=\"data row0 col7\" >1</td>\n",
       "                        <td id=\"T_770f2114_dd84_11ea_828a_d1b95b8b5869row0_col8\" class=\"data row0 col8\" >1</td>\n",
       "            </tr>\n",
       "    </tbody></table>"
      ],
      "text/plain": [
       "<pandas.io.formats.style.Styler at 0x7f06e2947cd0>"
      ]
     },
     "execution_count": 9,
     "metadata": {},
     "output_type": "execute_result"
    }
   ],
   "source": [
    "BH3_capped = msm.convert('BH3_capped.pdb')\n",
    "msm.info(BH3_capped)"
   ]
  },
  {
   "cell_type": "code",
   "execution_count": 12,
   "metadata": {},
   "outputs": [
    {
     "data": {
      "application/vnd.jupyter.widget-view+json": {
       "model_id": "b85ef27c09b24de09096ea029b83b5bf",
       "version_major": 2,
       "version_minor": 0
      },
      "text/plain": [
       "NGLWidget()"
      ]
     },
     "metadata": {},
     "output_type": "display_data"
    }
   ],
   "source": [
    "view = msm.view(BH3)\n",
    "view.clear()\n",
    "view.add_licorice()\n",
    "view"
   ]
  },
  {
   "cell_type": "code",
   "execution_count": 13,
   "metadata": {},
   "outputs": [],
   "source": [
    "net_charge = msm.physchem.get_charge(BH3, target='system', type='ForceField', forcefield='AMBER14')"
   ]
  },
  {
   "cell_type": "code",
   "execution_count": 14,
   "metadata": {},
   "outputs": [
    {
     "name": "stdout",
     "output_type": "stream",
     "text": [
      "Net charge of the molecular system: 0 e\n"
     ]
    }
   ],
   "source": [
    "print(\"Net charge of the molecular system: {}\".format(net_charge))"
   ]
  },
  {
   "cell_type": "code",
   "execution_count": 16,
   "metadata": {},
   "outputs": [
    {
     "data": {
      "application/vnd.jupyter.widget-view+json": {
       "model_id": "5e7ce1205cdc44b5b8813610349f7381",
       "version_major": 2,
       "version_minor": 0
      },
      "text/plain": [
       "NGLWidget()"
      ]
     },
     "metadata": {},
     "output_type": "display_data"
    }
   ],
   "source": [
    "palette = uibcdf_tools.colors.Palette_1()\n",
    "cmap = uibcdf_tools.matplotlib.color_maps.get_cmap('red_white_blue', palette, tone='dark')\n",
    "\n",
    "charge_residues = msm.physchem.get_charge(BH3, target='group', type='ForceField', forcefield='AMBER14')\n",
    "\n",
    "view = msm.view(BH3)\n",
    "view.clear()\n",
    "msm.nglview.show_colored_surface_by_scalar_residue_values(view, charge_residues, cmap=cmap)\n",
    "view"
   ]
  },
  {
   "cell_type": "markdown",
   "metadata": {},
   "source": [
    "How the PES and FEL changes when the terminals are capping with ACE and NME? And when aminoacids have differen protonation states? There is at least a HIS aminoacid."
   ]
  },
  {
   "cell_type": "code",
   "execution_count": null,
   "metadata": {},
   "outputs": [],
   "source": []
  }
 ],
 "metadata": {
  "kernelspec": {
   "display_name": "Python 3",
   "language": "python",
   "name": "python3"
  },
  "language_info": {
   "codemirror_mode": {
    "name": "ipython",
    "version": 3
   },
   "file_extension": ".py",
   "mimetype": "text/x-python",
   "name": "python",
   "nbconvert_exporter": "python",
   "pygments_lexer": "ipython3",
   "version": "3.7.7"
  }
 },
 "nbformat": 4,
 "nbformat_minor": 4
}
