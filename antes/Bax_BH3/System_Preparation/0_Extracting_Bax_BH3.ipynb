{
 "cells": [
  {
   "cell_type": "code",
   "execution_count": 1,
   "metadata": {},
   "outputs": [],
   "source": [
    "%load_ext autoreload\n",
    "%autoreload 2"
   ]
  },
  {
   "cell_type": "code",
   "execution_count": 17,
   "metadata": {},
   "outputs": [],
   "source": [
    "import molsysmt as msm\n",
    "import nglview as nv\n",
    "import numpy as np\n",
    "import simtk.unit as unit"
   ]
  },
  {
   "cell_type": "markdown",
   "metadata": {},
   "source": [
    "# Extracting Bax BH3 from the Fusogenic peptide\n",
    "\n",
    "From the original file 'PepFus.pdb', the segment corresponding to the Bax BH3 peptide (X) is extracted:"
   ]
  },
  {
   "cell_type": "code",
   "execution_count": 3,
   "metadata": {},
   "outputs": [],
   "source": [
    "SXTP = msm.convert('SXTP.pdb')"
   ]
  },
  {
   "cell_type": "code",
   "execution_count": 4,
   "metadata": {},
   "outputs": [],
   "source": [
    "X_sequence = \"aminoacids1:STKKLSECLKRIGDELDSNM\""
   ]
  },
  {
   "cell_type": "code",
   "execution_count": 5,
   "metadata": {},
   "outputs": [
    {
     "name": "stdout",
     "output_type": "stream",
     "text": [
      "\u001b[1;34;48mA\u001b[m\u001b[1;34;48mR\u001b[m\u001b[1;34;48mC\u001b[m\u001b[1;34;48mE\u001b[m\u001b[1;34;48mA\u001b[m\u001b[1;34;48mA\u001b[m\u001b[1;34;48mA\u001b[m\u001b[1;34;48mA\u001b[m\u001b[1;34;48mA\u001b[m\u001b[1;34;48mE\u001b[m\u001b[1;34;48mA\u001b[m\u001b[1;34;48mA\u001b[m\u001b[1;34;48mA\u001b[m\u001b[1;34;48mA\u001b[m\u001b[1;34;48mA\u001b[m\u001b[1;34;48mE\u001b[m\u001b[1;34;48mA\u001b[m\u001b[1;34;48mA\u001b[m\u001b[1;34;48mA\u001b[m\u001b[1;34;48mA\u001b[m\u001b[1;34;48mA\u001b[m\u001b[1;34;48mE\u001b[m\u001b[1;34;48mA\u001b[m\u001b[1;34;48mA\u001b[m\u001b[1;34;48mA\u001b[m\u001b[1;34;48mA\u001b[m\u001b[1;34;48mA\u001b[m\u001b[1;34;48mA\u001b[m\u001b[1;34;48mR\u001b[m\u001b[1;34;48mD\u001b[m\u001b[1;34;48mY\u001b[m\u001b[1;34;48mK\u001b[m\u001b[1;34;48mD\u001b[m\u001b[1;34;48mD\u001b[m\u001b[1;34;48mD\u001b[m\u001b[1;34;48mD\u001b[m\u001b[1;34;48mK\u001b[m\u001b[1;34;48mA\u001b[m\u001b[1;34;48mR\u001b[mSTKKLSECLKRIGDELDSNM\u001b[1;34;48mA\u001b[m\u001b[1;34;48mR\u001b[m\u001b[1;34;48mK\u001b[m\u001b[1;34;48mR\u001b[m\u001b[1;34;48mP\u001b[m\u001b[1;34;48mG\u001b[m\u001b[1;34;48mG\u001b[m\u001b[1;34;48mG\u001b[m\u001b[1;34;48mG\u001b[m\u001b[1;34;48mG\u001b[m\u001b[1;34;48mK\u001b[m\u001b[1;34;48mR\u001b[m\u001b[1;34;48mG\u001b[m\u001b[1;34;48mG\u001b[m\u001b[1;34;48mG\u001b[m\u001b[1;34;48mG\u001b[m\u001b[1;34;48mG\u001b[m\u001b[1;34;48mP\u001b[m\u001b[1;34;48mK\u001b[m\u001b[1;34;48mR\u001b[m\u001b[1;34;48mA\u001b[m\u001b[1;34;48mS\u001b[m\n",
      "\n",
      "---------------------------------------STKKLSECLKRIGDELDSNM----------------------\n"
     ]
    }
   ],
   "source": [
    "msm.sequence_alignment(SXTP, X_sequence, prettyprint=True)"
   ]
  },
  {
   "cell_type": "code",
   "execution_count": 6,
   "metadata": {},
   "outputs": [],
   "source": [
    "_, groups_X_in_SXTP, _ = msm.sequence_identity(SXTP, X_sequence, target_intersection_set=\"group\")"
   ]
  },
  {
   "cell_type": "code",
   "execution_count": 7,
   "metadata": {},
   "outputs": [
    {
     "name": "stdout",
     "output_type": "stream",
     "text": [
      "[39, 40, 41, 42, 43, 44, 45, 46, 47, 48, 49, 50, 51, 52, 53, 54, 55, 56, 57, 58]\n"
     ]
    }
   ],
   "source": [
    "print(groups_X_in_SXTP)"
   ]
  },
  {
   "cell_type": "code",
   "execution_count": 8,
   "metadata": {},
   "outputs": [],
   "source": [
    "X = msm.extract(SXTP, selection=\"group_index in @groups_X_in_SXTP\")"
   ]
  },
  {
   "cell_type": "markdown",
   "metadata": {},
   "source": [
    "The peptide is already protonated:"
   ]
  },
  {
   "cell_type": "code",
   "execution_count": 9,
   "metadata": {},
   "outputs": [
    {
     "data": {
      "text/plain": [
       "161"
      ]
     },
     "execution_count": 9,
     "metadata": {},
     "output_type": "execute_result"
    }
   ],
   "source": [
    "msm.get(X, target='atom', selection='atom_type==\"H\"', n_atoms=True)"
   ]
  },
  {
   "cell_type": "markdown",
   "metadata": {},
   "source": [
    "But since it was trimmed from a bigger chain, X has now no terminals. Let's add the N- and C- terminal capping."
   ]
  },
  {
   "cell_type": "code",
   "execution_count": 10,
   "metadata": {},
   "outputs": [],
   "source": [
    "X = msm.add_terminal_capping(X, N_terminal='ACE', C_terminal='NME')"
   ]
  },
  {
   "cell_type": "code",
   "execution_count": 11,
   "metadata": {},
   "outputs": [
    {
     "data": {
      "text/html": [
       "<style  type=\"text/css\" >\n",
       "</style><table id=\"T_6a95eb26_c947_11ea_9ef0_5f69881ba3ed\" ><thead>    <tr>        <th class=\"col_heading level0 col0\" >form</th>        <th class=\"col_heading level0 col1\" >n_atoms</th>        <th class=\"col_heading level0 col2\" >n_groups</th>        <th class=\"col_heading level0 col3\" >n_components</th>        <th class=\"col_heading level0 col4\" >n_chains</th>        <th class=\"col_heading level0 col5\" >n_molecules</th>        <th class=\"col_heading level0 col6\" >n_entities</th>        <th class=\"col_heading level0 col7\" >n_peptides</th>        <th class=\"col_heading level0 col8\" >n_frames</th>    </tr></thead><tbody>\n",
       "                <tr>\n",
       "                                <td id=\"T_6a95eb26_c947_11ea_9ef0_5f69881ba3edrow0_col0\" class=\"data row0 col0\" >molsysmt.MolSys</td>\n",
       "                        <td id=\"T_6a95eb26_c947_11ea_9ef0_5f69881ba3edrow0_col1\" class=\"data row0 col1\" >328</td>\n",
       "                        <td id=\"T_6a95eb26_c947_11ea_9ef0_5f69881ba3edrow0_col2\" class=\"data row0 col2\" >22</td>\n",
       "                        <td id=\"T_6a95eb26_c947_11ea_9ef0_5f69881ba3edrow0_col3\" class=\"data row0 col3\" >1</td>\n",
       "                        <td id=\"T_6a95eb26_c947_11ea_9ef0_5f69881ba3edrow0_col4\" class=\"data row0 col4\" >1</td>\n",
       "                        <td id=\"T_6a95eb26_c947_11ea_9ef0_5f69881ba3edrow0_col5\" class=\"data row0 col5\" >1</td>\n",
       "                        <td id=\"T_6a95eb26_c947_11ea_9ef0_5f69881ba3edrow0_col6\" class=\"data row0 col6\" >1</td>\n",
       "                        <td id=\"T_6a95eb26_c947_11ea_9ef0_5f69881ba3edrow0_col7\" class=\"data row0 col7\" >1</td>\n",
       "                        <td id=\"T_6a95eb26_c947_11ea_9ef0_5f69881ba3edrow0_col8\" class=\"data row0 col8\" >1</td>\n",
       "            </tr>\n",
       "    </tbody></table>"
      ],
      "text/plain": [
       "<pandas.io.formats.style.Styler at 0x7f0f2f54ba90>"
      ]
     },
     "execution_count": 11,
     "metadata": {},
     "output_type": "execute_result"
    }
   ],
   "source": [
    "msm.info(X)"
   ]
  },
  {
   "cell_type": "code",
   "execution_count": 12,
   "metadata": {},
   "outputs": [
    {
     "data": {
      "application/vnd.jupyter.widget-view+json": {
       "model_id": "aee2d9c17dc44dec8d72e3a486f84b7c",
       "version_major": 2,
       "version_minor": 0
      },
      "text/plain": [
       "NGLWidget()"
      ]
     },
     "metadata": {},
     "output_type": "display_data"
    }
   ],
   "source": [
    "msm.view(X)"
   ]
  },
  {
   "cell_type": "markdown",
   "metadata": {},
   "source": [
    "Let's save this peptide to a pdb file."
   ]
  },
  {
   "cell_type": "code",
   "execution_count": 13,
   "metadata": {},
   "outputs": [],
   "source": [
    "msm.convert(X, to_form='Bax_BH3.pdb')"
   ]
  },
  {
   "cell_type": "markdown",
   "metadata": {},
   "source": [
    "Finnally, lets solvate this peptide in a truncated octahedral periodic box:"
   ]
  },
  {
   "cell_type": "code",
   "execution_count": 14,
   "metadata": {},
   "outputs": [
    {
     "data": {
      "text/plain": [
       "168"
      ]
     },
     "execution_count": 14,
     "metadata": {},
     "output_type": "execute_result"
    }
   ],
   "source": [
    "msm.get(X, selection='atom_type==\"H\"', n_atoms=True)"
   ]
  },
  {
   "cell_type": "code",
   "execution_count": 23,
   "metadata": {},
   "outputs": [],
   "source": [
    "X_solvated = msm.solvate(X, box_geometry='truncated_octahedral', clearance=14.0*unit.angstroms,\n",
    "                         water='TIP3P', engine='OpenMM', verbose=False)"
   ]
  },
  {
   "cell_type": "code",
   "execution_count": 24,
   "metadata": {},
   "outputs": [
    {
     "data": {
      "text/html": [
       "<style  type=\"text/css\" >\n",
       "</style><table id=\"T_3373d2ec_c957_11ea_9ef0_5f69881ba3ed\" ><thead>    <tr>        <th class=\"col_heading level0 col0\" >form</th>        <th class=\"col_heading level0 col1\" >n_atoms</th>        <th class=\"col_heading level0 col2\" >n_groups</th>        <th class=\"col_heading level0 col3\" >n_components</th>        <th class=\"col_heading level0 col4\" >n_chains</th>        <th class=\"col_heading level0 col5\" >n_molecules</th>        <th class=\"col_heading level0 col6\" >n_entities</th>        <th class=\"col_heading level0 col7\" >n_waters</th>        <th class=\"col_heading level0 col8\" >n_peptides</th>        <th class=\"col_heading level0 col9\" >n_frames</th>    </tr></thead><tbody>\n",
       "                <tr>\n",
       "                                <td id=\"T_3373d2ec_c957_11ea_9ef0_5f69881ba3edrow0_col0\" class=\"data row0 col0\" >molsysmt.MolSys</td>\n",
       "                        <td id=\"T_3373d2ec_c957_11ea_9ef0_5f69881ba3edrow0_col1\" class=\"data row0 col1\" >5119</td>\n",
       "                        <td id=\"T_3373d2ec_c957_11ea_9ef0_5f69881ba3edrow0_col2\" class=\"data row0 col2\" >1619</td>\n",
       "                        <td id=\"T_3373d2ec_c957_11ea_9ef0_5f69881ba3edrow0_col3\" class=\"data row0 col3\" >1598</td>\n",
       "                        <td id=\"T_3373d2ec_c957_11ea_9ef0_5f69881ba3edrow0_col4\" class=\"data row0 col4\" >2</td>\n",
       "                        <td id=\"T_3373d2ec_c957_11ea_9ef0_5f69881ba3edrow0_col5\" class=\"data row0 col5\" >1598</td>\n",
       "                        <td id=\"T_3373d2ec_c957_11ea_9ef0_5f69881ba3edrow0_col6\" class=\"data row0 col6\" >2</td>\n",
       "                        <td id=\"T_3373d2ec_c957_11ea_9ef0_5f69881ba3edrow0_col7\" class=\"data row0 col7\" >1597</td>\n",
       "                        <td id=\"T_3373d2ec_c957_11ea_9ef0_5f69881ba3edrow0_col8\" class=\"data row0 col8\" >1</td>\n",
       "                        <td id=\"T_3373d2ec_c957_11ea_9ef0_5f69881ba3edrow0_col9\" class=\"data row0 col9\" >1</td>\n",
       "            </tr>\n",
       "    </tbody></table>"
      ],
      "text/plain": [
       "<pandas.io.formats.style.Styler at 0x7f0f255c33d0>"
      ]
     },
     "execution_count": 24,
     "metadata": {},
     "output_type": "execute_result"
    }
   ],
   "source": [
    "msm.info(X_solvated)"
   ]
  },
  {
   "cell_type": "code",
   "execution_count": null,
   "metadata": {},
   "outputs": [],
   "source": []
  }
 ],
 "metadata": {
  "kernelspec": {
   "display_name": "Python 3",
   "language": "python",
   "name": "python3"
  },
  "language_info": {
   "codemirror_mode": {
    "name": "ipython",
    "version": 3
   },
   "file_extension": ".py",
   "mimetype": "text/x-python",
   "name": "python",
   "nbconvert_exporter": "python",
   "pygments_lexer": "ipython3",
   "version": "3.7.10"
  }
 },
 "nbformat": 4,
 "nbformat_minor": 4
}
